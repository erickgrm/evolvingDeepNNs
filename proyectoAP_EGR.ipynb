{
  "nbformat": 4,
  "nbformat_minor": 0,
  "metadata": {
    "colab": {
      "name": "proyectoAP-EGR.ipynb",
      "provenance": [],
      "collapsed_sections": [],
      "include_colab_link": true
    },
    "kernelspec": {
      "name": "python3",
      "display_name": "Python 3"
    },
    "accelerator": "TPU"
  },
  "cells": [
    {
      "cell_type": "markdown",
      "metadata": {
        "id": "view-in-github",
        "colab_type": "text"
      },
      "source": [
        "<a href=\"https://colab.research.google.com/github/erickgrm/evolvingDeepNNs/blob/master/proyectoAP_EGR.ipynb\" target=\"_parent\"><img src=\"https://colab.research.google.com/assets/colab-badge.svg\" alt=\"Open In Colab\"/></a>"
      ]
    },
    {
      "cell_type": "markdown",
      "metadata": {
        "id": "OrLQERiGH-Pn",
        "colab_type": "text"
      },
      "source": [
        "# Proyecto de Aprendizaje Profundo\n",
        "## Diseño de redes neuronales mediante algoritmos genéticos\n",
        "### Erick García Ramírez\n",
        "Semestre 2020-1,\n",
        "PCIC-UNAM\n",
        "\n",
        "Proyecto basado en el artículo: \n",
        "\n",
        "[1] \"Regularized Evolution for Image Classifier Architecture Search\", de E. Real, A. Aggarwal y Y. Huang. ArXiv:1802.01548v7,  Feb 2019.  \n",
        "\n",
        "Algunas secciones de la implementación usan código de:\n",
        "\n",
        "[2] https://colab.research.google.com/github/google-research/google-research/blob/master/evolution/regularized_evolution_algorithm/regularized_evolution.ipynb\n",
        "\n",
        "\n",
        "### Contenido de la presente notebook:\n",
        "\n",
        "\n",
        "I. Comparación entre algoritmos genéticos\n",
        "\n",
        "II. La aquitectura de una red neuronal\n",
        "\n",
        "III. Evolución de la arquitectura\n"
      ]
    },
    {
      "cell_type": "markdown",
      "metadata": {
        "id": "_xejFHycIEvO",
        "colab_type": "text"
      },
      "source": [
        "## I: Comparación entre algoritmos genéticos\n",
        " \n",
        "El algoritmo genético en  [1] (AES). Es un algoritmo génetico muy simple, cuyos únicos mecanismos de \"evolución\" son la mutación y la eliminación del elemento más viejo en la población.\n",
        "\n",
        "IMPORTANTE: la mutación en AES es tan simple que en una red la mutación cambia únicamente una conexión o una operación. Por lo tanto, al inicio la búsqueda está más basada en la explotación que en la exploración. \n",
        "\n",
        "Proponemos usar un nuevo algoritmo genético (EGA) cuya búsqueda al inicio está fuertemente basada en exploración. \n",
        "\n",
        "Comparación general entre AES y EGA:\n",
        "\n",
        "1. AES encuentra individuos con fitness alto en menos ciclos\n",
        "2. AES tiende a perder individuos de buen fitness frecuentemente, y esto significa que típicamente no halla el óptimo absoluto \n",
        "3. EGA típicamente halla el óptimo absoluto si se le permite correr por suficientes ciclos. \n",
        "4. Bajo la suposición de que deseamos explorar un gran número de modelos (>5000), EGA funciona mucho mejor que AES en el espacio de búsqueda de juguete. \n",
        "5. EGA hace uso de un cruzamiento complejo entre la población, y de mutación en más de un punto. EGA es completamente elitista, pues en cada ciclo mantiene a población más óptima vista hasta ese momento. \n",
        "6. Debido a que hay mecanismo de evolución más complejos en EGA que en AES, EGA toma más tiempo para correr.\n",
        "\n"
      ]
    },
    {
      "cell_type": "markdown",
      "metadata": {
        "id": "DCTKRWyRIVqV",
        "colab_type": "text"
      },
      "source": [
        "### Implementación de EGA (Eclectic Genetic Algorithm)"
      ]
    },
    {
      "cell_type": "code",
      "metadata": {
        "id": "LvWRVWpMIRod",
        "colab_type": "code",
        "colab": {}
      },
      "source": [
        "### Routines for simulating models and their fitness: taken from [2] ###\n",
        "DIM = 120  # Number of bits in the bit strings (i.e. the \"models\").\n",
        "NOISE_STDEV = 0.01  # Standard deviation of the simulated training noise.\n",
        "\n",
        "class Model(object): \n",
        "    def __init__(self):\n",
        "        self.arch = None\n",
        "        self.accuracy = None\n",
        "    \n",
        "    def __str__(self):\n",
        "        return '{0:b}'.format(self.arch)\n",
        "\n",
        "def train_and_eval(arch):\n",
        "    accuracy =  float(_sum_bits(arch)) / float(DIM)\n",
        "    accuracy += random.gauss(mu=0.0, sigma=NOISE_STDEV)\n",
        "    accuracy = 0.0 if accuracy < 0.0 else accuracy\n",
        "    accuracy = 1.0 if accuracy > 1.0 else accuracy\n",
        "    return accuracy\n",
        "\n",
        "def _sum_bits(arch):\n",
        "    total = 0\n",
        "    for _ in range(DIM):\n",
        "        total += arch & 1\n",
        "        arch = (arch >> 1)\n",
        "    return total\n",
        "\n",
        "import random\n",
        "mutation_rate = 0.05\n",
        "\n",
        "def random_architecture():\n",
        "    return random.randint(0, 2**DIM - 1)\n",
        "\n",
        "def mutate_arch(parent_arch):\n",
        "    child_arch = parent_arch\n",
        "    for i in range(int(mutation_rate*DIM)):\n",
        "    # Flip the bit at a random position in `child_arch`.\n",
        "        child_arch = child_arch ^ (1 << random.randint(0, DIM - 1))\n",
        "  \n",
        "    return child_arch"
      ],
      "execution_count": 0,
      "outputs": []
    },
    {
      "cell_type": "code",
      "metadata": {
        "id": "zxqstS3iIt7b",
        "colab_type": "code",
        "colab": {
          "base_uri": "https://localhost:8080/",
          "height": 52
        },
        "outputId": "cc186e96-0cf9-4c70-a432-c4ad311e6671"
      },
      "source": [
        "# New function for crossing two architectures. \n",
        "# Performs two-point crossing with string of length DIM\n",
        "def crossing_arch(parent_arch1, parent_arch2):\n",
        "    str1 = bin(parent_arch1)[2:]\n",
        "    str2 = bin(parent_arch2)[2:]\n",
        "    while len(str1) < DIM:\n",
        "        str1 = '0' + str1\n",
        "    while len(str2) < DIM:\n",
        "        str2 = '0' + str2\n",
        "    pos1 = random.randint(0,DIM)\n",
        "    pos2 = random.randint(0,DIM)\n",
        "    if pos2 < pos1:\n",
        "        temp = pos1\n",
        "        pos1 = pos2\n",
        "        pos2 = temp\n",
        "    \n",
        "    new_str1 = str1[:pos1] + str2[pos1:pos2] + str1[pos2:]\n",
        "    new_str2 = str2[:pos1] + str1[pos1:pos2] + str2[pos2:]\n",
        "    \n",
        "    return int(new_str1, 2), int(new_str2, 2)\n",
        "\n",
        "# Example\n",
        "x = random_architecture()\n",
        "y = random_architecture()\n",
        "z,w = crossing_arch(x,y)\n",
        "print(\"Originals:\", x,y)\n",
        "print(\"After crossing:\", z,w)"
      ],
      "execution_count": 2,
      "outputs": [
        {
          "output_type": "stream",
          "text": [
            "Originals: 298793796281304118576036086631079232 1224382089731790545715486420118302282\n",
            "After crossing: 298793796281308526699203197680721216 1224382089731786137592319309068660298\n"
          ],
          "name": "stdout"
        }
      ]
    },
    {
      "cell_type": "code",
      "metadata": {
        "id": "y8AkurjWJSQC",
        "colab_type": "code",
        "colab": {}
      },
      "source": [
        "# Main function that performs crossing and mutation on the whole population. \n",
        "# Returns the new evolved population. Best fitness is kept in the new population.\n",
        "def cross_and_mutate_population(population, sample_size):\n",
        "    partial_history = [] # Not used by the algorithm, reports all models seen\n",
        "        \n",
        "    sample = []\n",
        "    while len(sample) < sample_size:\n",
        "        sample.append(random.choice(population))\n",
        "    parent = max(sample, key = lambda i: i.accuracy)\n",
        "    \n",
        "    child = Model()\n",
        "    child.arch = mutate_arch(parent.arch)\n",
        "    child.accuracy = train_and_eval(child.arch)\n",
        "    partial_history.append(child)\n",
        "    \n",
        "    i = 0 \n",
        "    while i < len(population) and child.accuracy < population[i].accuracy:\n",
        "        i += 1\n",
        "    if i < len(population): \n",
        "        population = population[:i] + [child] + population[i:-1]    \n",
        "        \n",
        "    temp = population\n",
        "    # Full crossover, \"Vasconcelos\" crossing: worst paired with best\n",
        "    while 1 < len(temp): \n",
        "        parent1 = temp[0] #max(temp, key=lambda i: i.accuracy)\n",
        "        parent2 = temp[-1] #min(temp, key=lambda i: i.accuracy)\n",
        "    \n",
        "        # Crossover\n",
        "        child1 = Model()\n",
        "        child2 = Model()\n",
        "        child1.arch, child2.arch = crossing_arch(parent1.arch, parent2.arch) \n",
        "        child1.accuracy = train_and_eval(child1.arch)\n",
        "        child2.accuracy = train_and_eval(child2.arch)\n",
        "        partial_history.append(child1)\n",
        "        partial_history.append(child2)\n",
        "        \n",
        "        i = 0 \n",
        "        while i < len(population) and child1.accuracy < population[i].accuracy:\n",
        "            i += 1\n",
        "        if i < len(population):\n",
        "            population = population[:i] + [child1] + population[i:]\n",
        "        else: population.append(child1)\n",
        "            \n",
        "        i = 0 \n",
        "        while  i < len(population) and child2.accuracy < population[i].accuracy:\n",
        "            i += 1\n",
        "        if i < len(population):\n",
        "            population = population[:i] + [child2] + population[i:]\n",
        "        else: population.append(child2)\n",
        "        \n",
        "        temp = temp[1:-1]\n",
        "    # END OF WHILE\n",
        "    population = population[:20]\n",
        "            \n",
        "    return population, partial_history"
      ],
      "execution_count": 0,
      "outputs": []
    },
    {
      "cell_type": "code",
      "metadata": {
        "id": "jvOrhEU6J2Wr",
        "colab_type": "code",
        "colab": {}
      },
      "source": [
        "# Routine to order thr population by fitness\n",
        "def order_by_accuracy(population):\n",
        "    temp = Model()\n",
        "    for i in range(len(population)):\n",
        "        for j in range(len(population)):\n",
        "            if population[j].accuracy < population[i].accuracy:\n",
        "                temp = population[i]\n",
        "                population[i] = population[j]\n",
        "                population[j] = temp\n",
        "    return population"
      ],
      "execution_count": 0,
      "outputs": []
    },
    {
      "cell_type": "code",
      "metadata": {
        "id": "3zk91wXfKgm4",
        "colab_type": "code",
        "colab": {}
      },
      "source": [
        "# The Eclectic Genetic Algorithm \n",
        "def eclectic_ga(cycles, population_size, sample_size):\n",
        "\n",
        "    population = []\n",
        "    history = []  # Not used by the algorithm, only used to report results.\n",
        "\n",
        "    # Initialize the population with random models.\n",
        "    while len(population) < population_size:\n",
        "        model = Model()\n",
        "        model.arch = random_architecture()\n",
        "        model.accuracy = train_and_eval(model.arch)\n",
        "        population.append(model)\n",
        "        history.append(model)\n",
        "    population = order_by_accuracy(population)\n",
        "\n",
        "    # Carry out evolution in cycles.\n",
        "    while len(history) < cycles:\n",
        "        # Mutation and crossing\n",
        "        population, partial_history = cross_and_mutate_population(population, sample_size)\n",
        "        \n",
        "        history = history + partial_history\n",
        "\n",
        "    return history, population"
      ],
      "execution_count": 0,
      "outputs": []
    },
    {
      "cell_type": "code",
      "metadata": {
        "id": "5fC_Qv3sKuO9",
        "colab_type": "code",
        "colab": {
          "base_uri": "https://localhost:8080/",
          "height": 34
        },
        "outputId": "2d2be0b7-b551-4499-ef2c-cc3230d25dd6"
      },
      "source": [
        "# Test run\n",
        "history, population = eclectic_ga(cycles = 15000, population_size = 100, sample_size = 10)\n",
        "print(\"Maximum found by EGA over 15000 models:\", population[0].accuracy)"
      ],
      "execution_count": 6,
      "outputs": [
        {
          "output_type": "stream",
          "text": [
            "Maximum found by EGA over 15000 models: 0.9178234026947933\n"
          ],
          "name": "stdout"
        }
      ]
    },
    {
      "cell_type": "code",
      "metadata": {
        "id": "qVOZJ-bfLFxa",
        "colab_type": "code",
        "colab": {
          "base_uri": "https://localhost:8080/",
          "height": 498
        },
        "outputId": "86c0c706-83c3-4475-b7f3-f02b78f51bc4"
      },
      "source": [
        "# Routine to plot the results of EGA, taken from [2]\n",
        "import matplotlib.pyplot as plt\n",
        "import matplotlib.ticker as ticker\n",
        "import seaborn as sns\n",
        "plt.title('EGA')\n",
        "sns.set_style('white')\n",
        "xvalues = range(len(history))\n",
        "yvalues = [i.accuracy for i in history]\n",
        "ax = plt.gca()\n",
        "ax.scatter(\n",
        "    xvalues, yvalues, marker='.', facecolor=(0.0, 0.0, 0.0),\n",
        "    edgecolor=(0.0, 0.0, 0.0), linewidth=1, s=1)\n",
        "fig = plt.gcf()\n",
        "fig.set_size_inches(8, 6)\n",
        "fig.tight_layout()\n",
        "ax.tick_params(\n",
        "    axis='x', which='both', bottom='True', top='False', labelbottom='True',\n",
        "    labeltop='False', labelsize=14, pad=10)\n",
        "ax.tick_params(\n",
        "    axis='y', which='both', left='True', right='False', labelleft='True',\n",
        "    labelright='False', labelsize=14, pad=5)\n",
        "\n",
        "plt.xlabel('Number of Models Evaluated', fontsize=16)\n",
        "plt.ylabel('Accuracy', fontsize=16)\n",
        "plt.xlim(0, len(history))\n",
        "sns.despine()"
      ],
      "execution_count": 7,
      "outputs": [
        {
          "output_type": "display_data",
          "data": {
            "image/png": "[encoded data removed]",
            "text/plain": [
              "<Figure size 576x432 with 1 Axes>"
            ]
          },
          "metadata": {
            "tags": []
          }
        }
      ]
    },
    {
      "cell_type": "code",
      "metadata": {
        "id": "vz-54XvfLNzs",
        "colab_type": "code",
        "colab": {}
      },
      "source": [
        "# Implementation of AES, for comparison. Taken from [2]\n",
        "import collections\n",
        "import random\n",
        "\n",
        "def regularized_evolution(cycles, population_size, sample_size):\n",
        "\n",
        "  population = collections.deque()\n",
        "  history = []  # Not used by the algorithm, only used to report results.\n",
        "\n",
        "  # Initialize the population with random models.\n",
        "  while len(population) < population_size:\n",
        "    model = Model()\n",
        "    model.arch = random_architecture()\n",
        "    model.accuracy = train_and_eval(model.arch)\n",
        "    population.append(model)\n",
        "    history.append(model)\n",
        "\n",
        "  # Carry out evolution in cycles. Each cycle produces a model and removes\n",
        "  # another.\n",
        "  while len(history) < cycles:\n",
        "    # Sample randomly chosen models from the current population.\n",
        "    sample = []\n",
        "    while len(sample) < sample_size:\n",
        "      # Inefficient, but written this way for clarity. In the case of neural\n",
        "      # nets, the efficiency of this line is irrelevant because training neural\n",
        "      # nets is the rate-determining step.\n",
        "      candidate = random.choice(list(population))\n",
        "      sample.append(candidate)\n",
        "\n",
        "    # The parent is the best model in the sample.\n",
        "    parent = max(sample, key=lambda i: i.accuracy)\n",
        "\n",
        "    # Create the child model and store it.\n",
        "    child = Model()\n",
        "    child.arch = mutate_arch(parent.arch)\n",
        "    child.accuracy = train_and_eval(child.arch)\n",
        "    population.append(child)\n",
        "    history.append(child)\n",
        "\n",
        "    # Remove the oldest model.\n",
        "    population.popleft()\n",
        "\n",
        "  return history, population"
      ],
      "execution_count": 0,
      "outputs": []
    },
    {
      "cell_type": "code",
      "metadata": {
        "id": "GHMEK61gLoY6",
        "colab_type": "code",
        "colab": {
          "base_uri": "https://localhost:8080/",
          "height": 34
        },
        "outputId": "97c64474-1bb4-462b-a5b2-b64685036ff5"
      },
      "source": [
        "#Test run\n",
        "aes_history, aes_population = regularized_evolution(\n",
        "    cycles=15000, population_size=100, sample_size=10)\n",
        "print(\"Maximum found by AES over 15000 models:\", max(aes_population, key=lambda i : i.accuracy).accuracy)"
      ],
      "execution_count": 9,
      "outputs": [
        {
          "output_type": "stream",
          "text": [
            "Maximum found by AES over 15000 models: 0.834686593508548\n"
          ],
          "name": "stdout"
        }
      ]
    },
    {
      "cell_type": "code",
      "metadata": {
        "id": "2NoDWJ6wLxJW",
        "colab_type": "code",
        "colab": {
          "base_uri": "https://localhost:8080/",
          "height": 498
        },
        "outputId": "bf530cd7-fefa-4666-9843-22bc55c9299f"
      },
      "source": [
        "# Routine to plot the results of AES, taken from [2]\n",
        "import matplotlib.pyplot as plt\n",
        "import matplotlib.ticker as ticker\n",
        "import seaborn as sns\n",
        "plt.title('AES')\n",
        "sns.set_style('white')\n",
        "xvalues = range(len(aes_history))\n",
        "yvalues = [i.accuracy for i in aes_history]\n",
        "ax = plt.gca()\n",
        "ax.scatter(\n",
        "    xvalues, yvalues, marker='.', facecolor=(0.0, 0.0, 0.0),\n",
        "    edgecolor=(0.0, 0.0, 0.0), linewidth=1, s=1)\n",
        "fig = plt.gcf()\n",
        "fig.set_size_inches(8, 6)\n",
        "fig.tight_layout()\n",
        "ax.tick_params(\n",
        "    axis='x', which='both', bottom='True', top='False', labelbottom='True',\n",
        "    labeltop='False', labelsize=14, pad=10)\n",
        "ax.tick_params(\n",
        "    axis='y', which='both', left='True', right='False', labelleft='True',\n",
        "    labelright='False', labelsize=14, pad=5)\n",
        "\n",
        "plt.xlabel('Number of Models Evaluated', fontsize=16)\n",
        "plt.ylabel('Accuracy', fontsize=16)\n",
        "plt.xlim(0, len(aes_history))\n",
        "sns.despine()"
      ],
      "execution_count": 10,
      "outputs": [
        {
          "output_type": "display_data",
          "data": {
            "image/png": "[encoded data removed]",
            "text/plain": [
              "<Figure size 576x432 with 1 Axes>"
            ]
          },
          "metadata": {
            "tags": []
          }
        }
      ]
    },
    {
      "cell_type": "markdown",
      "metadata": {
        "id": "DEAC5zViMnJP",
        "colab_type": "text"
      },
      "source": [
        "## Discusión\n",
        "\n",
        "\n",
        "A EGA le toma alrededor de 3000 ciclos para alcanzar valores mayores a 0.9. Esto lo hace AES en alrededor de 2000 ciclos. Esto era esperado y refleja la naturaleza más explorativa de EGA al inicio. A partir de 4000 ciclos es claro que EGA mantiene mejores individuos que AES. \n",
        "\n",
        "Si nuestro interés es explorar algunos miles (>5000) de modelos, EGA lo hace mejor. Si el interés es limitar fuertemente el número de modelos vistos (y por lo tanto el tiempo de búsqueda) AES es preferible. Debajo comparamos el rendimiento promedio de AES y EGA, además de una comparación simple de su tiempo de ejecución. EGA toma entre 1.0 y 1.2 veces el tiempo que toma AES.\n"
      ]
    },
    {
      "cell_type": "code",
      "metadata": {
        "id": "Lz5Yi_y6OH6t",
        "colab_type": "code",
        "colab": {
          "base_uri": "https://localhost:8080/",
          "height": 86
        },
        "outputId": "75ced2d2-9f08-4914-ec6f-ed6e154d2a83"
      },
      "source": [
        "import time\n",
        "from datetime import timedelta\n",
        "\n",
        "start_time = time.time()\n",
        "\n",
        "s = 0.0\n",
        "for _ in range(1000):\n",
        "    _, aes_population = regularized_evolution(cycles=4000, population_size=100, sample_size=10)\n",
        "    s += max(aes_population, key=lambda i: i.accuracy).accuracy\n",
        "print(s/1000)\n",
        "\n",
        "elapsed_time_secs = time.time() - start_time\n",
        "\n",
        "msg = \"Execution of 1000 x AES took: %s (Wall clock time)\" % timedelta(seconds=round(elapsed_time_secs))\n",
        "\n",
        "print(msg)   \n",
        "\n",
        "start_time = time.time()\n",
        "\n",
        "s = 0.0\n",
        "for _ in range(1000):\n",
        "    _, population = eclectic_ga(cycles=4000, population_size=100, sample_size=10)\n",
        "    s += population[0].accuracy \n",
        "print(s/1000)\n",
        "\n",
        "elapsed_time_secs = time.time() - start_time\n",
        "\n",
        "msg = \"Execution of 1000 x EGA took: %s (Wall clock time)\" % timedelta(seconds=round(elapsed_time_secs))\n",
        "\n",
        "print(msg)    "
      ],
      "execution_count": 11,
      "outputs": [
        {
          "output_type": "stream",
          "text": [
            "0.8251989330841687\n",
            "Execution of 1000 x AES took: 0:02:36 (Wall clock time)\n",
            "0.9038678287468207\n",
            "Execution of 1000 x EGA took: 0:01:35 (Wall clock time)\n"
          ],
          "name": "stdout"
        }
      ]
    },
    {
      "cell_type": "markdown",
      "metadata": {
        "id": "X6sVKs1ZQNV6",
        "colab_type": "text"
      },
      "source": [
        "# II:  La aquitectura de una red neuronal\n",
        "\n",
        "En esta sección describimos e implementamos la codificación de las redes sugerida en [1]. El código usado para [2] no fue publicado, así que lo siguiente es una interpretación e implementación directa del autor. Los detalles conceptuales sobre los elementos debajo se pueden consultar en [2].\n",
        "\n",
        "## Architecture of an AmoebaNet\n",
        "\n",
        "The full architecture of the net is given simply by the structure of normal and reduction cells. After these are fixed, the net consists of: \n",
        "\n",
        "1. Input Layer\n",
        "2. Conv2D 3x3, filters = 24, stride = 2\n",
        "3. 2 x Reduction cell\n",
        "4. Block of 3 Normal cells\n",
        "5. Reduction cell\n",
        "6. Block of 3 Normal cells\n",
        "7. Reduction cell\n",
        "8. Block of 3 Normal cells\n",
        "(Flatten or Global Pooling)\n",
        "9. Softmax\n",
        "\n",
        "## Representation of a cell\n",
        "\n",
        "A cell is determined by an array o 28 integers. \n",
        "\n",
        "A cell can be conceptualized as 5 nodes. Each node consists of two parallel operations and has two inputs and one single output. There is a sinlge output from the whole cell. As input, each cells receives the last cell output and a residue from the one-before-last cell. \n",
        "\n",
        "Encoding of a cell: Node1 + Node2 + Node3 + Node4 + Node5\n",
        "\n",
        "## Binary encoding of nodes and cells \n",
        "Since the only difference between normal and reduction cells is the size reduction in the latter, we encode both types of cells the same way. \n",
        "\n",
        "EGA does not work well with arbitrary integers and it is preferred to work with binary strings. We give the precise encoding of the nodes in a cell as binary strings.\n",
        "    \n",
        "* Node1: 8 bits, 3 for Operation1, 3 for Operation2, 1 for which operation is applied to input0, and 1 for which operation is applied to input1\n",
        "* Node2: 12 bits, 6 for operations, 2 for the application of ops to inputs, 2 for choosing input from the previous 3 inputs (the two original inputs and the output of Node1) \n",
        "* Node3: 12 bits: same as Node2 but the last four bits are to choose inputs from the four previous outputs.\n",
        "* Node4: 14 bits: same as Node3 but the last 6 bits are to choose inputs from the five previous outputs\n",
        "* Node5: 14 bits: same as Node4 \n",
        "\n",
        "Length of encoding of a cell: 60 bits\n",
        "\n",
        "## GENOME\n",
        "A genome is simply the encoding of the structure of the normal and reduction cells.\n",
        "\n",
        "GENOME = code of Normal cells + code of Reduction Cells\n",
        "        \n",
        "Length of GENOME = 120 bits\n",
        "\n",
        "## Operations:\n",
        "0. Identity\n",
        "1. SepConv 3x3\n",
        "2. SepConv 5x5\n",
        "3. SepConv 7x7\n",
        "4. AvgPool 3x3\n",
        "5. MaxPool 3x3\n",
        "6. SepDilConv 3x3\n",
        "\n",
        "## Examples\n",
        "CELL = arrays of 28 digits 3210240121241130240120241043\n",
        "\n",
        "Bin Encoding of CELL = string of length 60 011010100101000110010101001111000101000101000001010010100011\n",
        "\n",
        "ARCH = arrays of 56 digits 3210240121241130240120241043 + 3210240121241130240120241043\n",
        "\n",
        "Bin Encoding of ARCH = string of length 120\n",
        "011010100101000110010101001111000101000101000001010010100011011010100101000110010101001111000101000101000001010010100011"
      ]
    },
    {
      "cell_type": "code",
      "metadata": {
        "id": "_q-QNCwaZKk_",
        "colab_type": "code",
        "colab": {}
      },
      "source": [
        "# Routines for encoding and decoding architectures\n",
        "\n",
        "# Auxiliary routines to turn integers into binary strings\n",
        "def bin1(num):\n",
        "    return bin(num)[2:]\n",
        "    \n",
        "def bin2(num):\n",
        "    st = bin(num)[2:]\n",
        "    if len(st) == 2:\n",
        "        return st\n",
        "    else:\n",
        "        return '0' + st\n",
        "    \n",
        "def bin3(num):\n",
        "    st = bin(num)[2:]\n",
        "    while len(st) < 3:\n",
        "        st = '0' + st\n",
        "    return st\n"
      ],
      "execution_count": 0,
      "outputs": []
    },
    {
      "cell_type": "code",
      "metadata": {
        "id": "sRD-OBpqcAB9",
        "colab_type": "code",
        "colab": {}
      },
      "source": [
        "# From cell (28 digits) to binary encoding\n",
        "def cell_to_encoding(cell):\n",
        "    # cell is an array of 28 integers\n",
        "    enconding = ''\n",
        "    #Node 1\n",
        "    encoding =  bin3(cell[0]) + bin3(cell[1]) + bin1(cell[2]) + bin1(cell[3])\n",
        "    #Node 2\n",
        "    if 2 < int(cell[8]): cell[8] = random.randint(0,3)\n",
        "    if 2 < int(cell[9]): cell[9] = random.randint(0,3)\n",
        "    encoding += bin3(cell[4]) + bin3(cell[5]) + bin1(cell[6]) + bin1(cell[7]) + bin2(cell[8]) + bin2(cell[9])\n",
        "    #Node 3\n",
        "    encoding += bin3(cell[10]) + bin3(cell[11]) + bin1(cell[12]) + bin1(cell[13]) + bin2(cell[14]) + bin2(cell[15])\n",
        "    #Node 4\n",
        "    encoding +=  bin3(cell[16]) + bin3(cell[17]) + bin1(cell[18]) + bin1(cell[19])\n",
        "    if 4 < int(cell[20]): cell[20] = random.randint(0,5)\n",
        "    if 4 < int(cell[21]): cell[21] = random.randint(0,5)\n",
        "    encoding += bin3(cell[20]) + bin3(cell[21])\n",
        "    #Node 5\n",
        "    encoding +=  bin3(cell[22]) + bin3(cell[23]) + bin1(cell[24]) + bin1(cell[25])\n",
        "    if 4 < int(cell[26]): cell[26] = random.randint(0,5)\n",
        "    if 4 < int(cell[27]): cell[27] = random.randint(0,5)\n",
        "    encoding += bin3(cell[26]) + bin3(cell[27])\n",
        "    \n",
        "    return encoding # the binary string encoding the cell\n",
        "\n",
        "# From binary encoding to cell\n",
        "import random\n",
        "def encoding_to_cell(encoding):\n",
        "    #encoding is a string of length 60\n",
        "    cell = []\n",
        "    #Node 1\n",
        "    cell += [int(encoding[0:3],2)] + [int(encoding[3:6],2)] + [int(encoding[6],2)] + [int(encoding[7],2)]\n",
        "    #Node 2\n",
        "    cell += [int(encoding[8:11],2)] + [int(encoding[11:14],2)] + [int(encoding[14],2)] + [int(encoding[15],2)]\n",
        "    o1 = int(encoding[16:18],2)\n",
        "    o2 = int(encoding[18:20],2)\n",
        "    if 2 < o1: cell += [random.randint(0,3)]\n",
        "    else: cell += [o1] \n",
        "    if 2 < o2: cell += [random.randint(0,3)]\n",
        "    else: cell += [o2]\n",
        "    #Node 3\n",
        "    cell += [int(encoding[20:23],2)] + [int(encoding[23:26],2)] + [int(encoding[26],2)] + [int(encoding[27],2)]\n",
        "    cell += [int(encoding[28:30],2)] + [int(encoding[30:32],2)]\n",
        "    #Node 4\n",
        "    cell += [int(encoding[32:35],2)] + [int(encoding[35:38],2)] + [int(encoding[38],2)] + [int(encoding[39],2)]\n",
        "    o1 = int(encoding[40:43],2)\n",
        "    o2 = int(encoding[43:46],2)\n",
        "    if 4 < o1: cell += [random.randint(0,5)]\n",
        "    else: cell += [o1] \n",
        "    if 4 < o2: cell += [random.randint(0,5)]\n",
        "    else: cell += [o2]\n",
        "    #Node 5\n",
        "    cell += [int(encoding[46:49],2)] + [int(encoding[49:52],2)] + [int(encoding[52],2)] + [int(encoding[53],2)]\n",
        "    o1 = int(encoding[54:57],2)\n",
        "    o2 = int(encoding[57:60],2)\n",
        "    if 4 < o1: cell += [random.randint(0,5)]\n",
        "    else: cell += [o1] \n",
        "    if 4 < o2: cell += [random.randint(0,5)]\n",
        "    else: cell += [o2]\n",
        "        \n",
        "    return cell # the cell represented by the encoding"
      ],
      "execution_count": 0,
      "outputs": []
    },
    {
      "cell_type": "code",
      "metadata": {
        "id": "tBtuEuR7cRgo",
        "colab_type": "code",
        "colab": {
          "base_uri": "https://localhost:8080/",
          "height": 89
        },
        "outputId": "34a51453-54f7-4e3e-da25-2ac1ab707f38"
      },
      "source": [
        "# General routines for swaping encodings and architectures\n",
        "def arch_to_arch_encoding(arch):\n",
        "    # arch is an int array of length 56, the full encoding of a net\n",
        "    return cell_to_encoding(arch[0:28]) + cell_to_encoding(arch[28:56])\n",
        "\n",
        "def arch_encoding_to_arch(arch_encoding):\n",
        "    # arch_encoding is a binary string of length 120 \n",
        "    return encoding_to_cell(arch_encoding[0:60]) +encoding_to_cell(arch_encoding[60:120])\n",
        "\n",
        "# Example\n",
        "arch_example = list(map(int,'32102401212411302401202410433210240121241130240120241043'))\n",
        "print(\"Architecture example\", arch_example)\n",
        "arch_encoding = arch_to_arch_encoding(arch_example)\n",
        "print(\"Architectute encoding\", arch_encoding, \"lengh\", len(arch_encoding))\n",
        "reencoded_arch = arch_encoding_to_arch(arch_encoding)\n",
        "print(\"Reeconstructed architecture\", reencoded_arch)"
      ],
      "execution_count": 14,
      "outputs": [
        {
          "output_type": "stream",
          "text": [
            "Architecture example [3, 2, 1, 0, 2, 4, 0, 1, 2, 1, 2, 4, 1, 1, 3, 0, 2, 4, 0, 1, 2, 0, 2, 4, 1, 0, 4, 3, 3, 2, 1, 0, 2, 4, 0, 1, 2, 1, 2, 4, 1, 1, 3, 0, 2, 4, 0, 1, 2, 0, 2, 4, 1, 0, 4, 3]\n",
            "Architectute encoding 011010100101000110010101001111000101000101000001010010100011011010100101000110010101001111000101000101000001010010100011 lengh 120\n",
            "Reeconstructed architecture [3, 2, 1, 0, 2, 4, 0, 1, 2, 1, 2, 4, 1, 1, 3, 0, 2, 4, 0, 1, 2, 0, 2, 4, 1, 0, 4, 3, 3, 2, 1, 0, 2, 4, 0, 1, 2, 1, 2, 4, 1, 1, 3, 0, 2, 4, 0, 1, 2, 0, 2, 4, 1, 0, 4, 3]\n"
          ],
          "name": "stdout"
        }
      ]
    },
    {
      "cell_type": "markdown",
      "metadata": {
        "id": "V8VzY3ApdSdn",
        "colab_type": "text"
      },
      "source": [
        "## The keras model represented by an architecture\n",
        "Given an array of 56 digits (as far a it represents a valid AmoebaNet) we generate the actual neural network (a keras model) "
      ]
    },
    {
      "cell_type": "code",
      "metadata": {
        "id": "x7rUy2TVdtjh",
        "colab_type": "code",
        "colab": {}
      },
      "source": [
        "import tensorflow as tf\n",
        "import tensorflow.keras as ks\n",
        "import numpy as np"
      ],
      "execution_count": 0,
      "outputs": []
    },
    {
      "cell_type": "code",
      "metadata": {
        "id": "ZkTxtLMad-Cb",
        "colab_type": "code",
        "colab": {}
      },
      "source": [
        "# Routine to choose one of the 7 allowed operations (keras layers)\n",
        "def chosen_operation(n, no_filters = 24):\n",
        "    layer = ks.models.Sequential()\n",
        "    if n == 0:\n",
        "        layer.add(ks.layers.Dense(units = 32, activation=('linear')))\n",
        "    if n == 1:\n",
        "        layer.add(ks.layers.SeparableConv2D(filters=no_filters, kernel_size=3, padding='same'))\n",
        "    if n == 2:\n",
        "        layer.add(ks.layers.SeparableConv2D(filters=no_filters, kernel_size=5, padding='same'))\n",
        "    if n == 3:\n",
        "        layer.add(ks.layers.SeparableConv2D(filters=no_filters, kernel_size=5, padding='same'))\n",
        "    if n == 4:\n",
        "        layer.add(ks.layers.AveragePooling2D(pool_size=(3,3), padding='same'))\n",
        "    if n == 5:\n",
        "        layer.add(ks.layers.MaxPooling2D(pool_size=(3,3), padding='same'))\n",
        "    if n == 6: \n",
        "        layer.add(ks.layers.Conv2D(filters=no_filters, kernel_size=(3,3), padding='same', dilation_rate=(3, 3)))\n",
        "    if 6 < n: \n",
        "        layer.add(ks.layers.Dense(units = 32, activation=('linear')))\n",
        "    return layer"
      ],
      "execution_count": 0,
      "outputs": []
    },
    {
      "cell_type": "code",
      "metadata": {
        "id": "iA_vfMNgePVr",
        "colab_type": "code",
        "colab": {}
      },
      "source": [
        "# Routine to generate the keras model corresponding to a cell\n",
        "\n",
        "# Extremely simplified model. Attempts to introduce skip-connections and conditional execution failed. \n",
        "def nncell(cell_arch, filters = 24):\n",
        "    cell = ks.models.Sequential()\n",
        "    cell.add(chosen_operation(cell_arch[0], filters))\n",
        "    cell.add(chosen_operation(cell_arch[4], filters))\n",
        "    cell.add(chosen_operation(cell_arch[10], filters))\n",
        "    cell.add(chosen_operation(cell_arch[16], filters))\n",
        "    cell.add(chosen_operation(cell_arch[22], filters))\n",
        "    return cell\n",
        "\n",
        "### Failed attempt to introduce skip-connections and conditional execution\n",
        "#def nncell(x_last, x_skip, cell_arch):\n",
        "#    outputs = np.zeros(6)\n",
        "#    outputs[0] = x_last\n",
        "#    outputs[1] = x_skip\n",
        "#    # First node in amoeba, first 4 entries\n",
        "#    if cell_arch[2] == 0:\n",
        "#        outputs[2] = chosen_operation(cell_arch[0], x_last)\n",
        "#    else: outputs[2] = chosen_operation(cell_arch[1], x_last)\n",
        "#    if cell_arch[3] == 0:\n",
        "#        outputs[2] += chosen_operation(cell_arch[0], x_skip)\n",
        "#    else: outputs[2] += chosen_operation(cell_arch[1], x_skip)\n",
        "#         \n",
        "#    # Second node in amoeba, following 6 entries\n",
        "#    chosen_inp1 = cell_arch[8]\n",
        "#    chosen_inp2 = cell_arch[9]\n",
        "#    \n",
        "#    if cell_arch[6] == 0:\n",
        "#        outputs[3] = chosen_operation(cell_arch[4], outputs[chosen_inp1])\n",
        "#    else: outputs[3] = chosen_operation(cell_arch[5], outputs[chosen_inp1])\n",
        "#    if cell_arch[7] == 0:\n",
        "#        outputs[3] += chosen_operation(cell_arch[4], outputs[chosen_inp2])\n",
        "#    else: outputs[3] += chosen_operation(cell_arch[5], outputs[chosen_inp2])\n",
        "#    \n",
        "#    # Third node in amoeba, following 6 entries \n",
        "#    chosen_inp1 = cell_arch[14]\n",
        "#    chosen_inp2 = cell_arch[15]\n",
        "#    \n",
        "#    if cell_arch[12] == 0:\n",
        "#        outputs[4] = chosen_operation(cell_arch[10], outputs[chosen_inp1])\n",
        "#    else: outputs[4] = chosen_operation(cell_arch[11], outputs[chosen_inp1])\n",
        "#    if cell_arch[13] == 0:\n",
        "#        outputs[4] += chosen_operation(cell_arch[10], outputs[chosen_inp2])\n",
        "#    else: outputs[4] += chosen_operation(cell_arch[11], outputs[chosen_inp2])\n",
        "#    \n",
        "#    # Fourth node in amoeba, following 6 entries \n",
        "#    chosen_inp1 = cell_arch[20]\n",
        "#    chosen_inp2 = cell_arch[21]\n",
        "#    \n",
        "#    if cell_arch[18] == 0:\n",
        "#        outputs[5] = chosen_operation(cell_arch[16], outputs[chosen_inp1])\n",
        "#    else: outputs[5] = chosen_operation(cell_arch[17], outputs[chosen_inp1])\n",
        "#    if cell_arch[19] == 0:\n",
        "#        outputs[5] += chosen_operation(cell_arch[16], outputs[chosen_inp2])\n",
        "#    else: outputs[5] += chosen_operation(cell_arch[17], outputs[chosen_inp2])\n",
        "#    \n",
        "#    # Fifth node in amoeba, last 6 entries\n",
        "#    chosen_inp1 = cell_arch[26]\n",
        "#    chosen_inp2 = cell_arch[27]\n",
        "#    \n",
        "#    if cell_arch[24] == 0:\n",
        "#        outputs[6] = chosen_operation(cell_arch[22], outputs[chosen_inp1])\n",
        "#    else: outputs[6] = chosen_operation(cell_arch[23], outputs[chosen_inp1])\n",
        "#    if cell_arch[25] == 0:\n",
        "#        outputs[6] += chosen_operation(cell_arch[22], outputs[chosen_inp2])\n",
        "#    else: outputs[6] += chosen_operation(cell_arch[23], outputs[chosen_inp2])\n",
        "#    \n",
        "#    return outputs[6] # final output of cell"
      ],
      "execution_count": 0,
      "outputs": []
    },
    {
      "cell_type": "code",
      "metadata": {
        "id": "DH6_Lf0ifPZ_",
        "colab_type": "code",
        "colab": {}
      },
      "source": [
        "# Recover the actual keras model from an architecture\n",
        "def amoebaNet(arch, N = 3, F = 24):\n",
        "    \n",
        "    model = ks.models.Sequential()\n",
        "    normal_cell = nncell(arch[:28])\n",
        "    reduction_cell = nncell(arch[28:])\n",
        "    reduction_cell.add(ks.layers.AveragePooling2D(pool_size=(2, 2), \n",
        "                                                  strides=None, padding='same'))\n",
        "    \n",
        "    ### Start of amoebaNet ###\n",
        "    # Initial convolution\n",
        "    model.add(ks.layers.Conv2D(filters=F, kernel_size=3,\n",
        "                               strides=(2,2), padding='same'))\n",
        "    \n",
        "    # 2 Reduction cells\n",
        "    model.add(reduction_cell)\n",
        "    model.add(reduction_cell)\n",
        "    \n",
        "    # Block of N normal cells\n",
        "    for _ in range(N):\n",
        "        model.add(normal_cell)\n",
        "    \n",
        "    # 1 Reduction cell\n",
        "    model.add(reduction_cell)\n",
        "    \n",
        "    # Block of N normal cells\n",
        "    for _ in range(N):\n",
        "        model.add(normal_cell)\n",
        "    \n",
        "    # 1 Reduction cell\n",
        "    model.add(reduction_cell)\n",
        "    \n",
        "    # Block of N normal cells\n",
        "    for _ in range(N):\n",
        "        model.add(normal_cell)\n",
        "    \n",
        "    # Classification layer. \n",
        "    # Classification over 10 categories (MNIST-Fashion or CIFAR-10)\n",
        "    model.add(ks.layers.Flatten())\n",
        "    model.add(ks.layers.Dense(units=10, activation = ('softmax'))) \n",
        "    \n",
        "    return model"
      ],
      "execution_count": 0,
      "outputs": []
    },
    {
      "cell_type": "code",
      "metadata": {
        "id": "4lACt0SUgOzo",
        "colab_type": "code",
        "colab": {}
      },
      "source": [
        "# Fitness functions. Includes compilation, fitting and evaluation of accuracy \n",
        "# over the test set. The latter is the fitness of an architecture\n",
        "def net_train_and_eval(arch):\n",
        "    model = amoebaNet(arch)\n",
        "    # Compile model\n",
        "    model.compile(loss='sparse_categorical_crossentropy', optimizer = 'adam', metrics=['accuracy'])\n",
        "    trained = model.fit(train_dataset, epochs=3,\n",
        "                          steps_per_epoch=np.ceil(train_size/BATCH_SIZE))\n",
        "    _, test_acc = model.evaluate(test_dataset_batched, steps=np.ceil(test_size/BATCH_SIZE))\n",
        "    return test_acc"
      ],
      "execution_count": 0,
      "outputs": []
    },
    {
      "cell_type": "markdown",
      "metadata": {
        "id": "WMf9q7megtXs",
        "colab_type": "text"
      },
      "source": [
        "# Testing with MNIST-Fashion"
      ]
    },
    {
      "cell_type": "code",
      "metadata": {
        "id": "ioztQjKZfvdu",
        "colab_type": "code",
        "colab": {
          "base_uri": "https://localhost:8080/",
          "height": 52
        },
        "outputId": "212621e8-25f5-4996-b413-0eb70b320856"
      },
      "source": [
        "# Loading  and preparation of the dataset\n",
        "import tensorflow_datasets as tfds\n",
        "dataset, metadata = tfds.load('fashion_mnist', as_supervised=True, with_info=True) \n",
        "train_dataset, test_dataset = dataset['train'], dataset['test']\n",
        "# Size of training and test sets\n",
        "train_size = metadata.splits['train'].num_examples\n",
        "test_size = metadata.splits['test'].num_examples\n",
        "# Normalise data\n",
        "def minmaxScaling(images, labels):\n",
        "    images = tf.cast(images, tf.float32)\n",
        "    images = images/255\n",
        "    return images, labels\n",
        "\n",
        "train_dataset = train_dataset.map(minmaxScaling)\n",
        "test_dataset = test_dataset.map(minmaxScaling)\n",
        "print(\"Number of training examples\", train_size)\n",
        "print(\"Number of testing examples\", test_size)\n",
        "\n",
        "# Shuffling and batching of training set \n",
        "BATCH_SIZE = 50\n",
        "train_dataset = train_dataset.repeat().shuffle(train_size).batch(BATCH_SIZE)\n",
        "# Batching of testing set\n",
        "test_dataset_batched = test_dataset.batch(BATCH_SIZE)"
      ],
      "execution_count": 20,
      "outputs": [
        {
          "output_type": "stream",
          "text": [
            "Number of training examples 60000\n",
            "Number of testing examples 10000\n"
          ],
          "name": "stdout"
        }
      ]
    },
    {
      "cell_type": "code",
      "metadata": {
        "id": "fFxXIPHYgqy3",
        "colab_type": "code",
        "colab": {}
      },
      "source": [
        "# Evaluation of example\n",
        "arch = list(map(int,'32102401212411302401202410433210240121241130240120241043')) #an architecture\n",
        "#net_train_and_eval(arch)\n"
      ],
      "execution_count": 0,
      "outputs": []
    },
    {
      "cell_type": "code",
      "metadata": {
        "id": "4xtQY_u84xD9",
        "colab_type": "code",
        "colab": {}
      },
      "source": [
        "#s = arch_to_arch_encoding(arch)\n",
        "#net_train_and_eval(arch_encoding_to_arch(s))"
      ],
      "execution_count": 0,
      "outputs": []
    },
    {
      "cell_type": "markdown",
      "metadata": {
        "id": "zWnL_Cb2jLB3",
        "colab_type": "text"
      },
      "source": [
        "# III. Evolution of architectures\n",
        "\n",
        "A model is represented by an architecture (an array of 56 digits); an architecture is encoded as a binary string of length 120. \n",
        "We apply EGA under such conditions. "
      ]
    },
    {
      "cell_type": "code",
      "metadata": {
        "id": "2_qRehkw38JX",
        "colab_type": "code",
        "colab": {}
      },
      "source": [
        "# Modifications needed to apply EGA \n",
        "def cell_random_architecture():\n",
        "    encoding = []\n",
        "    # Node 1\n",
        "    encoding += [random.randint(0,6), random.randint(0,6), random.randint(0,2), \n",
        "                 random.randint(0,2)]\n",
        "    # Node 2\n",
        "    encoding += [random.randint(0,6), random.randint(0,6), random.randint(0,2), \n",
        "                 random.randint(0,2), random.randint(0,3), random.randint(0,3)]\n",
        "    # Node 3 \n",
        "    encoding += [random.randint(0,6), random.randint(0,6), random.randint(0,2), \n",
        "                 random.randint(0,2), random.randint(0,4), random.randint(0,4)]\n",
        "    # Node 4\n",
        "    encoding += [random.randint(0,6), random.randint(0,6), random.randint(0,2), \n",
        "                 random.randint(0,2), random.randint(0,5), random.randint(0,5)]\n",
        "    # Node 5\n",
        "    encoding += [random.randint(0,6), random.randint(0,6), random.randint(0,2), \n",
        "                 random.randint(0,2), random.randint(0,5), random.randint(0,5)]\n",
        "    return encoding\n",
        "\n",
        "def net_random_architecture():\n",
        "    return np.concatenate((cell_random_architecture(), cell_random_architecture()),axis=0)\n",
        "\n",
        "def net_crossing_arch(parent_arch1, parent_arch2):\n",
        "    str1 = arch_to_arch_encoding(parent_arch1)\n",
        "    str2 = arch_to_arch_encoding(parent_arch2)\n",
        "    while len(str1) < DIM:\n",
        "        str1 = '0' + str1\n",
        "    while len(str2) < DIM:\n",
        "        str2 = '0' + str2\n",
        "    pos1 = random.randint(0,DIM)\n",
        "    pos2 = random.randint(0,DIM)\n",
        "    if pos2 < pos1:\n",
        "        temp = pos1\n",
        "        pos1 = pos2\n",
        "        pos2 = temp\n",
        "    \n",
        "    new_str1 = str1[:pos1] + str2[pos1:pos2] + str1[pos2:]\n",
        "    new_str2 = str2[:pos1] + str1[pos1:pos2] + str2[pos2:]\n",
        "    \n",
        "    return arch_encoding_to_arch(new_str1), arch_encoding_to_arch(new_str2)\n",
        "\n",
        "# Main function that performs crossing and mutation on the whole population. \n",
        "# Returns the new evolved population. Best fitness is kept in the new population.\n",
        "def net_cross_and_mutate_population(population, sample_size):\n",
        "    partial_history = [] # Not used by the algorithm, reports all models seen\n",
        "        \n",
        "    sample = []\n",
        "    while len(sample) < sample_size:\n",
        "        sample.append(random.choice(population))\n",
        "    parent = max(sample, key = lambda i: i.accuracy)\n",
        "    \n",
        "    child = Model()\n",
        "    child.arch = mutate_arch(parent.arch)\n",
        "    child.accuracy = net_train_and_eval(child.arch)\n",
        "    partial_history.append(child)\n",
        "    \n",
        "    i = 0 \n",
        "    while i < len(population) and child.accuracy < population[i].accuracy:\n",
        "        i += 1\n",
        "    if i < len(population): \n",
        "        population = population[:i] + [child] + population[i:-1]    \n",
        "        \n",
        "    temp = population\n",
        "    # Full crossover, \"Vasconcelos\" crossing: worst paired with best\n",
        "    while 1 < len(temp): \n",
        "        parent1 = temp[0] #max(temp, key=lambda i: i.accuracy)\n",
        "        parent2 = temp[-1] #min(temp, key=lambda i: i.accuracy)\n",
        "    \n",
        "        # Crossover\n",
        "        child1 = Model()\n",
        "        child2 = Model()\n",
        "        child1.arch, child2.arch = net_crossing_arch(parent1.arch, parent2.arch) \n",
        "        child1.accuracy = net_train_and_eval(child1.arch)\n",
        "        child2.accuracy = net_train_and_eval(child2.arch)\n",
        "        partial_history.append(child1)\n",
        "        partial_history.append(child2)\n",
        "        \n",
        "        i = 0 \n",
        "        while i < len(population) and child1.accuracy < population[i].accuracy:\n",
        "            i += 1\n",
        "        if i < len(population):\n",
        "            population = population[:i] + [child1] + population[i:]\n",
        "        else: population.append(child1)\n",
        "            \n",
        "        i = 0 \n",
        "        while  i < len(population) and child2.accuracy < population[i].accuracy:\n",
        "            i += 1\n",
        "        if i < len(population):\n",
        "            population = population[:i] + [child2] + population[i:]\n",
        "        else: population.append(child2)\n",
        "        \n",
        "        temp = temp[1:-1]\n",
        "    # END OF WHILE\n",
        "    population = population[:10]\n",
        "            \n",
        "    return population, partial_history\n"
      ],
      "execution_count": 0,
      "outputs": []
    },
    {
      "cell_type": "code",
      "metadata": {
        "id": "TasUE4gxrNQQ",
        "colab_type": "code",
        "colab": {}
      },
      "source": [
        "# Modified Eclectic Genetic Algorithm. \n",
        "def net_eclectic_ga(cycles, population_size, sample_size):\n",
        "\n",
        "    population = []\n",
        "    history = []  # Not used by the algorithm, only used to report results.\n",
        "\n",
        "    # Initialize the population with random models.\n",
        "    while len(population) < population_size:\n",
        "        model = Model()\n",
        "        model.arch = net_random_architecture() # changed\n",
        "        model.accuracy = net_train_and_eval(model.arch) # changed\n",
        "        population.append(model)\n",
        "        history.append(model)\n",
        "    population = order_by_accuracy(population)\n",
        "\n",
        "    # Carry out evolution in cycles.\n",
        "    while len(history) < cycles:\n",
        "        # Mutation and crossing\n",
        "        population, partial_history = net_cross_and_mutate_population(population, sample_size)\n",
        "        \n",
        "        history = history + partial_history\n",
        "\n",
        "    return history, population"
      ],
      "execution_count": 0,
      "outputs": []
    },
    {
      "cell_type": "code",
      "metadata": {
        "id": "loQXnqxW6_fl",
        "colab_type": "code",
        "colab": {
          "base_uri": "https://localhost:8080/",
          "height": 1000
        },
        "outputId": "381821c0-3830-46fa-e981-ad4ce3d602d3"
      },
      "source": [
        "# Evolution of architectures\n",
        "history, population = net_eclectic_ga(cycles = 50, population_size = 10, sample_size = 4) "
      ],
      "execution_count": 0,
      "outputs": [
        {
          "output_type": "stream",
          "text": [
            "WARNING:tensorflow:From /usr/local/lib/python3.6/dist-packages/tensorflow_core/python/ops/resource_variable_ops.py:1630: calling BaseResourceVariable.__init__ (from tensorflow.python.ops.resource_variable_ops) with constraint is deprecated and will be removed in a future version.\n",
            "Instructions for updating:\n",
            "If using Keras pass *_constraint arguments to layers.\n"
          ],
          "name": "stdout"
        },
        {
          "output_type": "stream",
          "text": [
            "WARNING:tensorflow:From /usr/local/lib/python3.6/dist-packages/tensorflow_core/python/ops/resource_variable_ops.py:1630: calling BaseResourceVariable.__init__ (from tensorflow.python.ops.resource_variable_ops) with constraint is deprecated and will be removed in a future version.\n",
            "Instructions for updating:\n",
            "If using Keras pass *_constraint arguments to layers.\n"
          ],
          "name": "stderr"
        },
        {
          "output_type": "stream",
          "text": [
            "Train on 1200.0 steps\n",
            "Epoch 1/3\n",
            "1200/1200 [==============================] - 135s 113ms/step - loss: 0.7848 - acc: 0.7115\n",
            "Epoch 2/3\n",
            "1200/1200 [==============================] - 126s 105ms/step - loss: 0.5264 - acc: 0.8090\n",
            "Epoch 3/3\n",
            "1200/1200 [==============================] - 128s 107ms/step - loss: 0.4695 - acc: 0.8321\n",
            "200/200 [==============================] - 9s 43ms/step - loss: 0.4865 - acc: 0.8288\n",
            "Train on 1200.0 steps\n",
            "Epoch 1/3\n",
            "1200/1200 [==============================] - 43s 36ms/step - loss: 1.3888 - acc: 0.4309\n",
            "Epoch 2/3\n",
            "1200/1200 [==============================] - 32s 26ms/step - loss: 1.1206 - acc: 0.5654\n",
            "Epoch 3/3\n",
            "1200/1200 [==============================] - 32s 27ms/step - loss: 1.0356 - acc: 0.6061\n",
            "200/200 [==============================] - 4s 19ms/step - loss: 1.0068 - acc: 0.6235\n",
            "Train on 1200.0 steps\n",
            "Epoch 1/3\n",
            "1200/1200 [==============================] - 55s 46ms/step - loss: 1.5110 - acc: 0.3968\n",
            "Epoch 2/3\n",
            "1200/1200 [==============================] - 42s 35ms/step - loss: 1.0208 - acc: 0.6098\n",
            "Epoch 3/3\n",
            "1200/1200 [==============================] - 42s 35ms/step - loss: 0.8644 - acc: 0.6817\n",
            "200/200 [==============================] - 4s 21ms/step - loss: 0.8414 - acc: 0.6879\n",
            "Train on 1200.0 steps\n",
            "Epoch 1/3\n",
            "1200/1200 [==============================] - 70s 58ms/step - loss: 2.0478 - acc: 0.1850\n",
            "Epoch 2/3\n",
            "1200/1200 [==============================] - 57s 48ms/step - loss: 1.0327 - acc: 0.5955\n",
            "Epoch 3/3\n",
            "1200/1200 [==============================] - 57s 48ms/step - loss: 0.9011 - acc: 0.6574\n",
            "200/200 [==============================] - 5s 24ms/step - loss: 0.8622 - acc: 0.6630\n",
            "Train on 1200.0 steps\n",
            "Epoch 1/3\n",
            "1200/1200 [==============================] - 97s 81ms/step - loss: 1.0460 - acc: 0.5942\n",
            "Epoch 2/3\n",
            "1200/1200 [==============================] - 84s 70ms/step - loss: 0.7164 - acc: 0.7306\n",
            "Epoch 3/3\n",
            "1200/1200 [==============================] - 84s 70ms/step - loss: 0.6712 - acc: 0.7505\n",
            "200/200 [==============================] - 7s 35ms/step - loss: 0.6636 - acc: 0.7603\n",
            "Train on 1200.0 steps\n",
            "Epoch 1/3\n",
            "1200/1200 [==============================] - 68s 57ms/step - loss: 1.8763 - acc: 0.2485\n",
            "Epoch 2/3\n",
            "1200/1200 [==============================] - 56s 46ms/step - loss: 1.2468 - acc: 0.5051\n",
            "Epoch 3/3\n",
            "1200/1200 [==============================] - 56s 46ms/step - loss: 1.0890 - acc: 0.5770\n",
            "200/200 [==============================] - 5s 26ms/step - loss: 1.0667 - acc: 0.6029\n",
            "Train on 1200.0 steps\n",
            "Epoch 1/3\n",
            "1200/1200 [==============================] - 48s 40ms/step - loss: 1.3925 - acc: 0.4347\n",
            "Epoch 2/3\n",
            "1200/1200 [==============================] - 35s 29ms/step - loss: 1.1036 - acc: 0.5770\n",
            "Epoch 3/3\n",
            "1200/1200 [==============================] - 35s 29ms/step - loss: 0.9981 - acc: 0.6350\n",
            "200/200 [==============================] - 4s 21ms/step - loss: 0.9634 - acc: 0.6463\n",
            "Train on 1200.0 steps\n",
            "Epoch 1/3\n",
            "1200/1200 [==============================] - 49s 41ms/step - loss: 1.8031 - acc: 0.2598\n",
            "Epoch 2/3\n",
            "1200/1200 [==============================] - 37s 31ms/step - loss: 1.2751 - acc: 0.4866\n",
            "Epoch 3/3\n",
            "1200/1200 [==============================] - 36s 30ms/step - loss: 1.0051 - acc: 0.6064\n",
            "200/200 [==============================] - 4s 21ms/step - loss: 0.9782 - acc: 0.6141\n",
            "Train on 1200.0 steps\n",
            "Epoch 1/3\n",
            "1200/1200 [==============================] - 65s 54ms/step - loss: 1.0250 - acc: 0.6015\n",
            "Epoch 2/3\n",
            "1200/1200 [==============================] - 51s 43ms/step - loss: 0.5942 - acc: 0.7761\n",
            "Epoch 3/3\n",
            "1200/1200 [==============================] - 53s 44ms/step - loss: 0.5250 - acc: 0.8088\n",
            "200/200 [==============================] - 5s 24ms/step - loss: 0.5064 - acc: 0.8160\n",
            "Train on 1200.0 steps\n",
            "Epoch 1/3\n",
            "1200/1200 [==============================] - 91s 76ms/step - loss: 1.0969 - acc: 0.5699\n",
            "Epoch 2/3\n",
            "1200/1200 [==============================] - 75s 62ms/step - loss: 0.7489 - acc: 0.7176\n",
            "Epoch 3/3\n",
            "1200/1200 [==============================] - 76s 63ms/step - loss: 0.6772 - acc: 0.7465\n",
            "200/200 [==============================] - 6s 29ms/step - loss: 0.6919 - acc: 0.7349\n",
            "Train on 1200.0 steps\n",
            "Epoch 1/3\n",
            "1200/1200 [==============================] - 65s 54ms/step - loss: 0.5814 - acc: 0.7945\n",
            "Epoch 2/3\n",
            "1200/1200 [==============================] - 50s 42ms/step - loss: 0.5140 - acc: 0.8216\n",
            "Epoch 3/3\n",
            "1200/1200 [==============================] - 50s 42ms/step - loss: 0.4888 - acc: 0.8300\n",
            "200/200 [==============================] - 5s 27ms/step - loss: 0.5241 - acc: 0.8187\n",
            "Train on 1200.0 steps\n",
            "Epoch 1/3\n",
            "1200/1200 [==============================] - 71s 59ms/step - loss: 1.3209 - acc: 0.4687\n",
            "Epoch 2/3\n",
            "1200/1200 [==============================] - 58s 48ms/step - loss: 0.9157 - acc: 0.6673\n",
            "Epoch 3/3\n",
            "1200/1200 [==============================] - 57s 48ms/step - loss: 0.8289 - acc: 0.6983\n",
            "200/200 [==============================] - 5s 26ms/step - loss: 0.7945 - acc: 0.6988\n",
            "Train on 1200.0 steps\n",
            "Epoch 1/3\n",
            "1200/1200 [==============================] - 110s 92ms/step - loss: 0.8714 - acc: 0.6786\n",
            "Epoch 2/3\n",
            "1200/1200 [==============================] - 96s 80ms/step - loss: 0.6093 - acc: 0.7781\n",
            "Epoch 3/3\n",
            "1200/1200 [==============================] - 95s 79ms/step - loss: 0.5608 - acc: 0.7986\n",
            "200/200 [==============================] - 8s 41ms/step - loss: 0.5597 - acc: 0.7995\n",
            "Train on 1200.0 steps\n",
            "Epoch 1/3\n",
            "1200/1200 [==============================] - 97s 81ms/step - loss: 0.9564 - acc: 0.6451\n",
            "Epoch 2/3\n",
            "1200/1200 [==============================] - 83s 69ms/step - loss: 0.7134 - acc: 0.7417\n",
            "Epoch 3/3\n",
            "1200/1200 [==============================] - 84s 70ms/step - loss: 0.6709 - acc: 0.7588\n",
            "200/200 [==============================] - 8s 38ms/step - loss: 0.6765 - acc: 0.7591\n",
            "Train on 1200.0 steps\n",
            "Epoch 1/3\n",
            "1200/1200 [==============================] - 106s 88ms/step - loss: 1.0446 - acc: 0.5965\n",
            "Epoch 2/3\n",
            "1200/1200 [==============================] - 90s 75ms/step - loss: 0.7118 - acc: 0.7303\n",
            "Epoch 3/3\n",
            "1200/1200 [==============================] - 90s 75ms/step - loss: 0.6370 - acc: 0.7638\n",
            "200/200 [==============================] - 8s 38ms/step - loss: 0.6306 - acc: 0.7662\n",
            "Train on 1200.0 steps\n",
            "Epoch 1/3\n",
            "1200/1200 [==============================] - 142s 118ms/step - loss: 0.8630 - acc: 0.6854\n",
            "Epoch 2/3\n",
            "1200/1200 [==============================] - 129s 107ms/step - loss: 0.5391 - acc: 0.8078\n",
            "Epoch 3/3\n",
            " 450/1200 [==========>...................] - ETA: 1:19 - loss: 0.4925 - acc: 0.8193"
          ],
          "name": "stdout"
        }
      ]
    },
    {
      "cell_type": "code",
      "metadata": {
        "id": "eoaciYSy-epb",
        "colab_type": "code",
        "colab": {}
      },
      "source": [
        "print(\"Maximum test_accuracy found by net_eclectic_ga over 30 models:\", max(population, key=lambda i : i.accuracy).accuracy)"
      ],
      "execution_count": 0,
      "outputs": []
    },
    {
      "cell_type": "code",
      "metadata": {
        "id": "RXQ5WrEn-JhI",
        "colab_type": "code",
        "colab": {}
      },
      "source": [
        "# Plot the results of net_ecletic_ga\n",
        "import matplotlib.pyplot as plt\n",
        "import matplotlib.ticker as ticker\n",
        "import seaborn as sns\n",
        "plt.title('net_eclectic_ga')\n",
        "sns.set_style('white')\n",
        "xvalues = range(len(history))\n",
        "yvalues = [i.accuracy for i in history]\n",
        "ax = plt.gca()\n",
        "ax.scatter(\n",
        "    xvalues, yvalues, marker='X', facecolor=(0.0, 0.0, 0.0),\n",
        "    edgecolor=(0.0, 0.0, 0.0), linewidth=10, s=1)\n",
        "fig = plt.gcf()\n",
        "fig.set_size_inches(8, 6)\n",
        "fig.tight_layout()\n",
        "ax.tick_params(\n",
        "    axis='x', which='both', bottom='True', top='False', labelbottom='True',\n",
        "    labeltop='False', labelsize=14, pad=10)\n",
        "ax.tick_params(\n",
        "    axis='y', which='both', left='True', right='False', labelleft='True',\n",
        "    labelright='False', labelsize=14, pad=5)\n",
        "\n",
        "plt.xlabel('Number of Models Evaluated', fontsize=16)\n",
        "plt.ylabel('Test Accuracy', fontsize=16)\n",
        "plt.xlim(0, len(history))\n",
        "sns.despine()"
      ],
      "execution_count": 0,
      "outputs": []
    },
    {
      "cell_type": "code",
      "metadata": {
        "id": "MrhV4U-E-wR8",
        "colab_type": "code",
        "colab": {}
      },
      "source": [
        "# Best model\n",
        "best = amoebaNet(arch_encoding_to_arch(population[0]))\n",
        "# Train further\n",
        "best.compile(loss='sparse_categorical_crossentropy', optimizer = 'adam', metrics=['accuracy'])\n",
        "best.fit(train_dataset, epochs=10, steps_per_epoch=np.ceil(train_size/BATCH_SIZE))\n",
        "\n",
        "_, test_acc = model.evaluate(test_dataset_batched, steps=np.ceil(test_size/BATCH_SIZE))\n",
        "print(test_acc)"
      ],
      "execution_count": 0,
      "outputs": []
    }
  ]
}