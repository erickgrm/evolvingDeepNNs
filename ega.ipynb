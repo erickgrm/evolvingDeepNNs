{
 "cells": [
  {
   "cell_type": "markdown",
   "metadata": {},
   "source": [
    "# EGA"
   ]
  },
  {
   "cell_type": "code",
   "execution_count": 5,
   "metadata": {},
   "outputs": [],
   "source": [
    "DIM = 100  # Number of bits in the bit strings (i.e. the \"models\").\n",
    "NOISE_STDEV = 0.01  # Standard deviation of the simulated training noise.\n",
    "\n",
    "class Model(object):\n",
    "    \n",
    "  def __init__(self):\n",
    "    self.arch = None\n",
    "    self.accuracy = None\n",
    "    \n",
    "  def __str__(self):\n",
    "    \"\"\"Prints a readable version of this bitstring.\"\"\"\n",
    "    return '{0:b}'.format(self.arch)\n",
    "  \n",
    "def train_and_eval(arch):\n",
    "  \"\"\"Simulates training and evaluation.\n",
    "  \n",
    "  Computes the simulated validation accuracy of the given architecture. See\n",
    "  the `accuracy` attribute in `Model` class for details.\n",
    "  \n",
    "  Args:\n",
    "    arch: the architecture as an int representing a bit-string.\n",
    "  \"\"\"\n",
    "  accuracy =  float(_sum_bits(arch)) / float(DIM)\n",
    "  accuracy += random.gauss(mu=0.0, sigma=NOISE_STDEV)\n",
    "  accuracy = 0.0 if accuracy < 0.0 else accuracy\n",
    "  accuracy = 1.0 if accuracy > 1.0 else accuracy\n",
    "  return accuracy\n",
    "\n",
    "def _sum_bits(arch):\n",
    "  \"\"\"Returns the number of 1s in the bit string.\n",
    "  \n",
    "  Args:\n",
    "    arch: an int representing the bit string.\n",
    "  \"\"\"\n",
    "  total = 0\n",
    "  for _ in range(DIM):\n",
    "    total += arch & 1\n",
    "    arch = (arch >> 1)\n",
    "  return total"
   ]
  },
  {
   "cell_type": "code",
   "execution_count": 8,
   "metadata": {},
   "outputs": [
    {
     "ename": "TypeError",
     "evalue": "object of type 'int' has no len()",
     "output_type": "error",
     "traceback": [
      "\u001b[0;31m---------------------------------------------------------------------------\u001b[0m",
      "\u001b[0;31mTypeError\u001b[0m                                 Traceback (most recent call last)",
      "\u001b[0;32m<ipython-input-8-b2ae8cc0c4ff>\u001b[0m in \u001b[0;36m<module>\u001b[0;34m\u001b[0m\n\u001b[1;32m     25\u001b[0m \u001b[0;34m\u001b[0m\u001b[0m\n\u001b[1;32m     26\u001b[0m   \u001b[0;32mreturn\u001b[0m \u001b[0mchild_arch\u001b[0m\u001b[0;34m\u001b[0m\u001b[0;34m\u001b[0m\u001b[0m\n\u001b[0;32m---> 27\u001b[0;31m \u001b[0mprint\u001b[0m\u001b[0;34m(\u001b[0m\u001b[0mlen\u001b[0m\u001b[0;34m(\u001b[0m\u001b[0mrandom_architecture\u001b[0m\u001b[0;34m(\u001b[0m\u001b[0;34m)\u001b[0m\u001b[0;34m)\u001b[0m\u001b[0;34m)\u001b[0m\u001b[0;34m\u001b[0m\u001b[0;34m\u001b[0m\u001b[0m\n\u001b[0m",
      "\u001b[0;31mTypeError\u001b[0m: object of type 'int' has no len()"
     ]
    }
   ],
   "source": [
    "import random\n",
    "\n",
    "def random_architecture():\n",
    "  \"\"\"Returns a random architecture (bit-string) represented as an int.\"\"\"\n",
    "  return random.randint(0, 2**DIM - 1)\n",
    "\n",
    "def mutate_arch(parent_arch):\n",
    "  \"\"\"Computes the architecture for a child of the given parent architecture.\n",
    "\n",
    "  The parent architecture is cloned and mutated to produce the child\n",
    "  architecture. The child architecture is mutated by flipping a randomly chosen\n",
    "  bit in its bit-string.\n",
    "\n",
    "  Args:\n",
    "    parent_arch: an int representing the architecture (bit-string) of the\n",
    "        parent.\n",
    "\n",
    "  Returns:\n",
    "    An int representing the architecture (bit-string) of the child.\n",
    "  \"\"\"\n",
    "\n",
    "  position = random.randint(0, DIM - 1)  # Index of the bit to flip.\n",
    "  \n",
    "  # Flip the bit at position `position` in `child_arch`.\n",
    "  child_arch = parent_arch ^ (1 << position)\n",
    "  \n",
    "  return child_arch\n",
    "print(len(random_architecture()))"
   ]
  },
  {
   "cell_type": "code",
   "execution_count": 3,
   "metadata": {},
   "outputs": [],
   "source": [
    "import collections\n",
    "import random\n",
    "\n",
    "def ega_evolution(cycles, population_size, sample_size):\n",
    "    population = []\n",
    "    history = []  # Not used by the algorithm, only used to report results.\n",
    "\n",
    "    # Initialize the population with random models.\n",
    "    while len(population) < population_size:\n",
    "        model = Model()\n",
    "        model.arch = random_architecture()\n",
    "        model.accuracy = train_and_eval(model.arch)\n",
    "        # Find place of new model in the array, ordered from high to low accuracy\n",
    "        i = 0\n",
    "        while i < len(population):\n",
    "            if population[i].accuracy < model.accuracy:\n",
    "                population = population[:i] + [model] + population[:i+1]\n",
    "    history = population\n",
    "\n",
    "  # Carry out evolution in cycles. Each cycle produces a model and removes\n",
    "  # another.\n",
    "    while len(history) < cycles:\n",
    "    # Sample randomly chosen models from the current population.\n",
    "        sample = []\n",
    "        while len(sample) < sample_size:\n",
    "            candidate = random.choice(list(population))\n",
    "            sample.append(candidate)\n",
    "\n",
    "    # The parent is the best model in the sample.\n",
    "    parent = max(sample, key=lambda i: i.accuracy)\n",
    "\n",
    "    # Create the child model and store it.\n",
    "    child = Model()\n",
    "    child.arch = mutate_arch(parent.arch)\n",
    "    child.accuracy = train_and_eval(child.arch)\n",
    "    i = 0\n",
    "    while i < len(population):\n",
    "        if population[i].accuracy < child.accuracy:\n",
    "            population = population[:i] + [child] + population[:i+1]\n",
    "    history = population\n",
    "    \n",
    "\n",
    "    # Remove the worst model.\n",
    "    population.popright()\n",
    "\n",
    "    return history"
   ]
  },
  {
   "cell_type": "code",
   "execution_count": 4,
   "metadata": {},
   "outputs": [
    {
     "ename": "KeyboardInterrupt",
     "evalue": "",
     "output_type": "error",
     "traceback": [
      "\u001b[0;31m---------------------------------------------------------------------------\u001b[0m",
      "\u001b[0;31mKeyboardInterrupt\u001b[0m                         Traceback (most recent call last)",
      "\u001b[0;32m<ipython-input-4-73b484e5564b>\u001b[0m in \u001b[0;36m<module>\u001b[0;34m\u001b[0m\n\u001b[1;32m      1\u001b[0m history = ega_evolution(\n\u001b[0;32m----> 2\u001b[0;31m     cycles=10, population_size=10, sample_size=5)\n\u001b[0m",
      "\u001b[0;32m<ipython-input-3-515cc8129598>\u001b[0m in \u001b[0;36mega_evolution\u001b[0;34m(cycles, population_size, sample_size)\u001b[0m\n\u001b[1;32m     10\u001b[0m         \u001b[0mmodel\u001b[0m \u001b[0;34m=\u001b[0m \u001b[0mModel\u001b[0m\u001b[0;34m(\u001b[0m\u001b[0;34m)\u001b[0m\u001b[0;34m\u001b[0m\u001b[0;34m\u001b[0m\u001b[0m\n\u001b[1;32m     11\u001b[0m         \u001b[0mmodel\u001b[0m\u001b[0;34m.\u001b[0m\u001b[0march\u001b[0m \u001b[0;34m=\u001b[0m \u001b[0mrandom_architecture\u001b[0m\u001b[0;34m(\u001b[0m\u001b[0;34m)\u001b[0m\u001b[0;34m\u001b[0m\u001b[0;34m\u001b[0m\u001b[0m\n\u001b[0;32m---> 12\u001b[0;31m         \u001b[0mmodel\u001b[0m\u001b[0;34m.\u001b[0m\u001b[0maccuracy\u001b[0m \u001b[0;34m=\u001b[0m \u001b[0mtrain_and_eval\u001b[0m\u001b[0;34m(\u001b[0m\u001b[0mmodel\u001b[0m\u001b[0;34m.\u001b[0m\u001b[0march\u001b[0m\u001b[0;34m)\u001b[0m\u001b[0;34m\u001b[0m\u001b[0;34m\u001b[0m\u001b[0m\n\u001b[0m\u001b[1;32m     13\u001b[0m         \u001b[0;31m# Find place of new model in the array, ordered from high to low accuracy\u001b[0m\u001b[0;34m\u001b[0m\u001b[0;34m\u001b[0m\u001b[0;34m\u001b[0m\u001b[0m\n\u001b[1;32m     14\u001b[0m         \u001b[0mi\u001b[0m \u001b[0;34m=\u001b[0m \u001b[0;36m0\u001b[0m\u001b[0;34m\u001b[0m\u001b[0;34m\u001b[0m\u001b[0m\n",
      "\u001b[0;32m<ipython-input-1-d31d58d254ca>\u001b[0m in \u001b[0;36mtrain_and_eval\u001b[0;34m(arch)\u001b[0m\n\u001b[1;32m     21\u001b[0m     \u001b[0march\u001b[0m\u001b[0;34m:\u001b[0m \u001b[0mthe\u001b[0m \u001b[0marchitecture\u001b[0m \u001b[0;32mas\u001b[0m \u001b[0man\u001b[0m \u001b[0mint\u001b[0m \u001b[0mrepresenting\u001b[0m \u001b[0ma\u001b[0m \u001b[0mbit\u001b[0m\u001b[0;34m-\u001b[0m\u001b[0mstring\u001b[0m\u001b[0;34m.\u001b[0m\u001b[0;34m\u001b[0m\u001b[0;34m\u001b[0m\u001b[0m\n\u001b[1;32m     22\u001b[0m   \"\"\"\n\u001b[0;32m---> 23\u001b[0;31m   \u001b[0maccuracy\u001b[0m \u001b[0;34m=\u001b[0m  \u001b[0mfloat\u001b[0m\u001b[0;34m(\u001b[0m\u001b[0m_sum_bits\u001b[0m\u001b[0;34m(\u001b[0m\u001b[0march\u001b[0m\u001b[0;34m)\u001b[0m\u001b[0;34m)\u001b[0m \u001b[0;34m/\u001b[0m \u001b[0mfloat\u001b[0m\u001b[0;34m(\u001b[0m\u001b[0mDIM\u001b[0m\u001b[0;34m)\u001b[0m\u001b[0;34m\u001b[0m\u001b[0;34m\u001b[0m\u001b[0m\n\u001b[0m\u001b[1;32m     24\u001b[0m   \u001b[0maccuracy\u001b[0m \u001b[0;34m+=\u001b[0m \u001b[0mrandom\u001b[0m\u001b[0;34m.\u001b[0m\u001b[0mgauss\u001b[0m\u001b[0;34m(\u001b[0m\u001b[0mmu\u001b[0m\u001b[0;34m=\u001b[0m\u001b[0;36m0.0\u001b[0m\u001b[0;34m,\u001b[0m \u001b[0msigma\u001b[0m\u001b[0;34m=\u001b[0m\u001b[0mNOISE_STDEV\u001b[0m\u001b[0;34m)\u001b[0m\u001b[0;34m\u001b[0m\u001b[0;34m\u001b[0m\u001b[0m\n\u001b[1;32m     25\u001b[0m   \u001b[0maccuracy\u001b[0m \u001b[0;34m=\u001b[0m \u001b[0;36m0.0\u001b[0m \u001b[0;32mif\u001b[0m \u001b[0maccuracy\u001b[0m \u001b[0;34m<\u001b[0m \u001b[0;36m0.0\u001b[0m \u001b[0;32melse\u001b[0m \u001b[0maccuracy\u001b[0m\u001b[0;34m\u001b[0m\u001b[0;34m\u001b[0m\u001b[0m\n",
      "\u001b[0;32m<ipython-input-1-d31d58d254ca>\u001b[0m in \u001b[0;36m_sum_bits\u001b[0;34m(arch)\u001b[0m\n\u001b[1;32m     36\u001b[0m   \u001b[0;32mfor\u001b[0m \u001b[0m_\u001b[0m \u001b[0;32min\u001b[0m \u001b[0mrange\u001b[0m\u001b[0;34m(\u001b[0m\u001b[0mDIM\u001b[0m\u001b[0;34m)\u001b[0m\u001b[0;34m:\u001b[0m\u001b[0;34m\u001b[0m\u001b[0;34m\u001b[0m\u001b[0m\n\u001b[1;32m     37\u001b[0m     \u001b[0mtotal\u001b[0m \u001b[0;34m+=\u001b[0m \u001b[0march\u001b[0m \u001b[0;34m&\u001b[0m \u001b[0;36m1\u001b[0m\u001b[0;34m\u001b[0m\u001b[0;34m\u001b[0m\u001b[0m\n\u001b[0;32m---> 38\u001b[0;31m     \u001b[0march\u001b[0m \u001b[0;34m=\u001b[0m \u001b[0;34m(\u001b[0m\u001b[0march\u001b[0m \u001b[0;34m>>\u001b[0m \u001b[0;36m1\u001b[0m\u001b[0;34m)\u001b[0m\u001b[0;34m\u001b[0m\u001b[0;34m\u001b[0m\u001b[0m\n\u001b[0m\u001b[1;32m     39\u001b[0m   \u001b[0;32mreturn\u001b[0m \u001b[0mtotal\u001b[0m\u001b[0;34m\u001b[0m\u001b[0;34m\u001b[0m\u001b[0m\n",
      "\u001b[0;31mKeyboardInterrupt\u001b[0m: "
     ]
    }
   ],
   "source": [
    "history = ega_evolution(\n",
    "    cycles=10, population_size=10, sample_size=5)"
   ]
  },
  {
   "cell_type": "code",
   "execution_count": null,
   "metadata": {},
   "outputs": [],
   "source": []
  },
  {
   "cell_type": "code",
   "execution_count": null,
   "metadata": {},
   "outputs": [],
   "source": []
  }
 ],
 "metadata": {
  "kernelspec": {
   "display_name": "Python 3",
   "language": "python",
   "name": "python3"
  },
  "language_info": {
   "codemirror_mode": {
    "name": "ipython",
    "version": 3
   },
   "file_extension": ".py",
   "mimetype": "text/x-python",
   "name": "python",
   "nbconvert_exporter": "python",
   "pygments_lexer": "ipython3",
   "version": "3.7.1"
  }
 },
 "nbformat": 4,
 "nbformat_minor": 2
}
