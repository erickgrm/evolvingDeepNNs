{
 "cells": [
  {
   "cell_type": "code",
   "execution_count": 1,
   "metadata": {},
   "outputs": [],
   "source": [
    "# Parameters of the genetic algorithm\n",
    "mutation_prob = 0.025 # mutation percentage\n",
    "N = 10 # Population size\n",
    "S = int(N*0.25) # Sampling size for mutation and crossing \n",
    "G = 10 # Number of cycles"
   ]
  },
  {
   "cell_type": "code",
   "execution_count": 2,
   "metadata": {},
   "outputs": [],
   "source": [
    "DIM = 100  # Number of bits in the bit strings (i.e. the \"models\").\n",
    "NOISE_STDEV = 0.01  # Standard deviation of the simulated training noise.\n",
    "\n",
    "class Model(object): \n",
    "    def __init__(self):\n",
    "        self.arch = None\n",
    "        self.accuracy = None\n",
    "    \n",
    "    def __str__(self):\n",
    "        return '{0:b}'.format(self.arch)\n",
    "\n",
    "def train_and_eval(arch):\n",
    "    accuracy =  float(_sum_bits(arch)) / float(DIM)\n",
    "    accuracy += random.gauss(mu=0.0, sigma=NOISE_STDEV)\n",
    "    accuracy = 0.0 if accuracy < 0.0 else accuracy\n",
    "    accuracy = 1.0 if accuracy > 1.0 else accuracy\n",
    "    return accuracy\n",
    "\n",
    "def _sum_bits(arch):\n",
    "    total = 0\n",
    "    for _ in range(DIM):\n",
    "        total += arch & 1\n",
    "        arch = (arch >> 1)\n",
    "    return total"
   ]
  },
  {
   "cell_type": "code",
   "execution_count": 3,
   "metadata": {},
   "outputs": [
    {
     "name": "stdout",
     "output_type": "stream",
     "text": [
      "0b100000011010011110110110001101110001111111111000001000000100100100001011111010100101001101101101111 101\n",
      "0b100000011010011110110110001101110101111111111000001000000100100100001011111010100101001111101101111 101\n",
      "321010538931228719797052283759 321010538968122207944471388015\n"
     ]
    }
   ],
   "source": [
    "import random\n",
    "\n",
    "def random_architecture():\n",
    "    return random.randint(0, 2**DIM - 1)\n",
    "\n",
    "def mutate_arch(parent_arch):\n",
    "    child_arch = parent_arch\n",
    "    for i in range(int(mutation_prob*DIM)):\n",
    "    # Flip the bit at a random position in `child_arch`.\n",
    "        child_arch = child_arch ^ (1 << random.randint(0, DIM - 1))\n",
    "  \n",
    "    return child_arch\n",
    "x = random_architecture()\n",
    "mx = mutate_arch(x)\n",
    "print(bin(x), len(bin(x)))\n",
    "print(bin(mx), len(bin(mx)))\n",
    "print(x, mx)"
   ]
  },
  {
   "cell_type": "code",
   "execution_count": 4,
   "metadata": {},
   "outputs": [
    {
     "name": "stdout",
     "output_type": "stream",
     "text": [
      "405139398778341452580196003781 490784136840279693810745461358\n",
      "405366274129588454660897845189 490557261489032691730043619950\n"
     ]
    }
   ],
   "source": [
    "def crossing_arch(parent_arch1, parent_arch2):\n",
    "    str1 = bin(parent_arch1)[2:]\n",
    "    str2 = bin(parent_arch2)[2:]\n",
    "    while len(str1) < DIM:\n",
    "        str1 = '0' + str1\n",
    "    while len(str2) < DIM:\n",
    "        str2 = '0' + str2\n",
    "    pos1 = random.randint(0,DIM)\n",
    "    pos2 = random.randint(0,DIM)\n",
    "    if pos2 < pos1:\n",
    "        temp = pos1\n",
    "        pos1 = pos2\n",
    "        pos2 = temp\n",
    "    \n",
    "    new_str1 = str1[:pos1] + str2[pos1:pos2] + str1[pos2:]\n",
    "    new_str2 = str2[:pos1] + str1[pos1:pos2] + str2[pos2:]\n",
    "    \n",
    "    return int(new_str1, 2), int(new_str2, 2)\n",
    "\n",
    "x = random_architecture()\n",
    "y = random_architecture()\n",
    "z,w = crossing_arch(x,y)\n",
    "print(x,y)\n",
    "print(z,w)"
   ]
  },
  {
   "cell_type": "code",
   "execution_count": 5,
   "metadata": {},
   "outputs": [],
   "source": [
    "def crossing_and_mutate_sample(sample):\n",
    "    parent1 = max(sample, key=lambda i: i.accuracy)\n",
    "    parent2 = min(sample, key=lambda i: i.accuracy)\n",
    "    \n",
    "    # Crossover\n",
    "    child1 = Model()\n",
    "    child2 = Model()\n",
    "    child1.arch, child2.arch = crossing_arch(parent1.arch, parent2.arch) \n",
    "    child1.accuracy = train_and_eval(child1.arch)\n",
    "    child2.accuracy = train_and_eval(child2.arch)\n",
    "    \n",
    "    # Mutation of best in sample\n",
    "    child3 = Model()\n",
    "    child3.arch = mutate_arch(parent1.arch)\n",
    "    child3.accuracy = train_and_eval(child3.arch)\n",
    "    \n",
    "    competitors = [parent1, parent2, child1, child2, child3]\n",
    "    best1 = max(competitors, key=lambda i: i.accuracy)\n",
    "    competitors.remove(best1)\n",
    "    best2 = max(competitors, key=lambda i: i.accuracy)\n",
    "    \n",
    "    # Competition\n",
    "    return best1#, best2"
   ]
  },
  {
   "cell_type": "code",
   "execution_count": 6,
   "metadata": {},
   "outputs": [
    {
     "name": "stdout",
     "output_type": "stream",
     "text": [
      "0.496916807256511 0.4598714678298836\n",
      "0.5170842848372629\n"
     ]
    }
   ],
   "source": [
    "x = Model()\n",
    "y = Model()\n",
    "x.arch = random_architecture()\n",
    "y.arch = random_architecture()\n",
    "x.accuracy = train_and_eval(x.arch)\n",
    "y.accuracy = train_and_eval(y.arch)\n",
    "sample = [x,y]\n",
    "z = crossing_and_mutate_sample(sample)\n",
    "\n",
    "print(x.accuracy, y.accuracy)\n",
    "print(z.accuracy)"
   ]
  },
  {
   "cell_type": "code",
   "execution_count": 7,
   "metadata": {},
   "outputs": [],
   "source": [
    "def order_by_accuracy(population):\n",
    "    temp = Model()\n",
    "    for i in range(len(population)):\n",
    "        for j in range(len(population)):\n",
    "            if population[j].accuracy < population[i].accuracy:\n",
    "                temp = population[i]\n",
    "                population[i] = population[j]\n",
    "                population[j] = temp\n",
    "    return population\n",
    "                \n",
    "#def order(arr):\n",
    "#    for i in range(len(arr)):\n",
    "#        for j in range(len(arr)):\n",
    "#            if arr[j] < arr[i]:\n",
    "#                temp = arr[i]\n",
    "#                arr[i] = arr[j]\n",
    "#                arr[j] = temp\n",
    "#    return arr\n",
    "#order([-2,1,3, 12, 2,3,5,])"
   ]
  },
  {
   "cell_type": "code",
   "execution_count": 18,
   "metadata": {},
   "outputs": [],
   "source": [
    "# The GA itself\n",
    "def simple_crossing_ga(cycles, population_size, sample_size):\n",
    "\n",
    "    population = []\n",
    "    history = []  # Not used by the algorithm, only used to report results.\n",
    "\n",
    "    # Initialize the population with random models.\n",
    "    while len(population) < population_size:\n",
    "        model = Model()\n",
    "        model.arch = random_architecture()\n",
    "        model.accuracy = train_and_eval(model.arch)\n",
    "        population.append(model)\n",
    "        history.append(model)\n",
    "    population = order_by_accuracy(population)\n",
    "\n",
    "    # Carry out evolution in cycles. In a cycle: a sample is taken, \n",
    "    # the best in the sample is mutated and the best and the worst a crossed over; \n",
    "    # we remove the \n",
    "    while len(history) < cycles:\n",
    "        # Sample randomly chosen models from the current population.\n",
    "        sample = []\n",
    "        while len(sample) < sample_size:\n",
    "            # Inefficient, but written this way for clarity. In the case of neural\n",
    "            # nets, the efficiency of this line is irrelevant because training neural\n",
    "            # nets is the rate-determining step.\n",
    "            candidate = random.choice(list(population))\n",
    "            sample.append(candidate)\n",
    "    \n",
    "        child = Model()\n",
    "        child = crossing_and_mutate_sample(sample)\n",
    "        \n",
    "        # Insert child in population preserving the order and removes worse model\n",
    "        i = 0\n",
    "        while child.accuracy < population[i].accuracy:\n",
    "            i += 1\n",
    "        if i < len(population): \n",
    "            population = population[:i] + [child] + population[i:-1]\n",
    "        history.append(child)\n",
    "        #print(\"Cycle \", len(history), \" completed\")\n",
    "        # Remove the oldest model.\n",
    "        #population.popleft()\n",
    "\n",
    "    return history"
   ]
  },
  {
   "cell_type": "code",
   "execution_count": 30,
   "metadata": {},
   "outputs": [],
   "source": [
    "history = simple_crossing_ga(cycles = 300, population_size = 100, sample_size = 10)"
   ]
  },
  {
   "cell_type": "code",
   "execution_count": 31,
   "metadata": {},
   "outputs": [
    {
     "name": "stderr",
     "output_type": "stream",
     "text": [
      "/home/erick/anaconda3/envs/ml/lib/python3.7/site-packages/matplotlib/cbook/__init__.py:424: MatplotlibDeprecationWarning: \n",
      "Passing one of 'on', 'true', 'off', 'false' as a boolean is deprecated; use an actual boolean (True/False) instead.\n",
      "  warn_deprecated(\"2.2\", \"Passing one of 'on', 'true', 'off', 'false' as a \"\n",
      "/home/erick/anaconda3/envs/ml/lib/python3.7/site-packages/matplotlib/cbook/__init__.py:424: MatplotlibDeprecationWarning: \n",
      "Passing one of 'on', 'true', 'off', 'false' as a boolean is deprecated; use an actual boolean (True/False) instead.\n",
      "  warn_deprecated(\"2.2\", \"Passing one of 'on', 'true', 'off', 'false' as a \"\n",
      "/home/erick/anaconda3/envs/ml/lib/python3.7/site-packages/matplotlib/cbook/__init__.py:424: MatplotlibDeprecationWarning: \n",
      "Passing one of 'on', 'true', 'off', 'false' as a boolean is deprecated; use an actual boolean (True/False) instead.\n",
      "  warn_deprecated(\"2.2\", \"Passing one of 'on', 'true', 'off', 'false' as a \"\n",
      "/home/erick/anaconda3/envs/ml/lib/python3.7/site-packages/matplotlib/cbook/__init__.py:424: MatplotlibDeprecationWarning: \n",
      "Passing one of 'on', 'true', 'off', 'false' as a boolean is deprecated; use an actual boolean (True/False) instead.\n",
      "  warn_deprecated(\"2.2\", \"Passing one of 'on', 'true', 'off', 'false' as a \"\n",
      "/home/erick/anaconda3/envs/ml/lib/python3.7/site-packages/matplotlib/cbook/__init__.py:424: MatplotlibDeprecationWarning: \n",
      "Passing one of 'on', 'true', 'off', 'false' as a boolean is deprecated; use an actual boolean (True/False) instead.\n",
      "  warn_deprecated(\"2.2\", \"Passing one of 'on', 'true', 'off', 'false' as a \"\n",
      "/home/erick/anaconda3/envs/ml/lib/python3.7/site-packages/matplotlib/cbook/__init__.py:424: MatplotlibDeprecationWarning: \n",
      "Passing one of 'on', 'true', 'off', 'false' as a boolean is deprecated; use an actual boolean (True/False) instead.\n",
      "  warn_deprecated(\"2.2\", \"Passing one of 'on', 'true', 'off', 'false' as a \"\n",
      "/home/erick/anaconda3/envs/ml/lib/python3.7/site-packages/matplotlib/cbook/__init__.py:424: MatplotlibDeprecationWarning: \n",
      "Passing one of 'on', 'true', 'off', 'false' as a boolean is deprecated; use an actual boolean (True/False) instead.\n",
      "  warn_deprecated(\"2.2\", \"Passing one of 'on', 'true', 'off', 'false' as a \"\n",
      "/home/erick/anaconda3/envs/ml/lib/python3.7/site-packages/matplotlib/cbook/__init__.py:424: MatplotlibDeprecationWarning: \n",
      "Passing one of 'on', 'true', 'off', 'false' as a boolean is deprecated; use an actual boolean (True/False) instead.\n",
      "  warn_deprecated(\"2.2\", \"Passing one of 'on', 'true', 'off', 'false' as a \"\n"
     ]
    },
    {
     "data": {
      "image/png": "[encoded data removed]",
      "text/plain": [
       "<Figure size 576x432 with 1 Axes>"
      ]
     },
     "metadata": {},
     "output_type": "display_data"
    }
   ],
   "source": [
    "import matplotlib.pyplot as plt\n",
    "import matplotlib.ticker as ticker\n",
    "import seaborn as sns\n",
    "sns.set_style('white')\n",
    "xvalues = range(len(history))\n",
    "yvalues = [i.accuracy for i in history]\n",
    "ax = plt.gca()\n",
    "ax.scatter(\n",
    "    xvalues, yvalues, marker='.', facecolor=(0.0, 0.0, 0.0),\n",
    "    edgecolor=(0.0, 0.0, 0.0), linewidth=1, s=1)\n",
    "ax.xaxis.set_major_locator(ticker.LinearLocator(numticks=2))\n",
    "ax.xaxis.set_major_formatter(ticker.ScalarFormatter())\n",
    "ax.yaxis.set_major_locator(ticker.LinearLocator(numticks=2))\n",
    "ax.yaxis.set_major_formatter(ticker.ScalarFormatter())\n",
    "fig = plt.gcf()\n",
    "fig.set_size_inches(8, 6)\n",
    "fig.tight_layout()\n",
    "ax.tick_params(\n",
    "    axis='x', which='both', bottom='True', top='False', labelbottom='True',\n",
    "    labeltop='False', labelsize=14, pad=10)\n",
    "ax.tick_params(\n",
    "    axis='y', which='both', left='True', right='False', labelleft='True',\n",
    "    labelright='False', labelsize=14, pad=5)\n",
    "\n",
    "plt.xlabel('Number of Models Evaluated', labelpad=-16, fontsize=16)\n",
    "plt.ylabel('Accuracy', labelpad=-30, fontsize=16)\n",
    "plt.xlim(0, 300)\n",
    "sns.despine()"
   ]
  }
 ],
 "metadata": {
  "kernelspec": {
   "display_name": "Python 3",
   "language": "python",
   "name": "python3"
  },
  "language_info": {
   "codemirror_mode": {
    "name": "ipython",
    "version": 3
   },
   "file_extension": ".py",
   "mimetype": "text/x-python",
   "name": "python",
   "nbconvert_exporter": "python",
   "pygments_lexer": "ipython3",
   "version": "3.7.1"
  }
 },
 "nbformat": 4,
 "nbformat_minor": 2
}
