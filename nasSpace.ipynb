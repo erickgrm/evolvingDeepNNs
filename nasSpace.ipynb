{
 "cells": [
  {
   "cell_type": "markdown",
   "metadata": {},
   "source": [
    "# Cells\n",
    "A normal cell is built by:\n",
    "1. Receiving two input values (the output of previous cell and a residue(skip) from two cells earlier)\n",
    "2. 6 outputs from 5 nodes. The input of a node are two values from previous outputs and the two original inputs of the cell. The output of the node is the sum of the result of aplying an operation to each of the inputs.The final output of the cell is the concatenation of the last two unused outputs. \n",
    "3. Allowed operations: Identity, Separable convolution with filter size: 3x3, 5x5 and 7x7, 3x3 Avg pooling,  3x3 max pooling, 3x3 Separable dilated convolution. \n",
    "\n",
    "A Reduction cell has the same structure as a normal cell except that the final output is passed through an avg pooling of stride 2x2\n",
    "\n",
    "# Architecture of an AmoebaNet\n",
    "The full architecture of the net is given simply by the structure of normal and reduction cells. After these are fixed, the net consists of: \n",
    "\n",
    "Input Layer\n",
    "Conv 3x3, filters = 24, stride = 2\n",
    "2 Reduction cells\n",
    "3 Normal cells\n",
    "Reduction cell\n",
    "3 Normal cells\n",
    "Reduction cell\n",
    "3 Normal cells\n",
    "Flatten (or MaxPooling)\n",
    "Softmax, outputs = 10 (CIFAR-10)\n",
    "\n",
    "\n",
    "# Operations\n",
    "0. Identity\n",
    "1. SepConv 3x3\n",
    "2. SepConv 5x5\n",
    "3. SepConv 7x7\n",
    "4. AvgPool 3x3\n",
    "5. MaxPool 3x3\n",
    "6. SepDilConv 3x3\n",
    "\n",
    "# Genome\n",
    "A genome corresponds to the codification of the structure of the normal and reduction cells. Since the only difference between them is the size reduction in the latter, we encode both type of cells the same way. \n",
    "\n",
    "Encoding of a cell: Node1+Node2+Node3+Node4+Node5\n",
    "    Node1: 8 bits, 3 for Operation1, 3 for Operation2, 1 for which operation is applied to input0, and 1 for which operation is applied to input1\n",
    "    e.g. (001,010)+ (1,0): apply SepConv3x3 to input1, apply SepConv5x5 to input0. Output = sum of results\n",
    "    Node2: 12 bits, 6 for operations, 2 for the application of ops to inputs, 2 for choosing input from the previous 3 inputs (the two original inputs and the output of Node1) \n",
    "    Node3: 12 bits: same as Node2 but the last four bits are to choose inputs from 0,1,2,3\n",
    "    Node4: 14 bits: same as Node3but the last 6 bits are to choose inputs from 0,1,2,3,4\n",
    "    Node5: 14 bits: same as Node4\n",
    "Length of encoding of a cell: 60 bits\n",
    " \n",
    "GENOME = code of Normal cells + code of Reduction Cells, i.e.\n",
    "        = code of a cell + code of a cell\n",
    "        \n",
    "Length of genome = 120 bits"
   ]
  },
  {
   "cell_type": "markdown",
   "metadata": {},
   "source": [
    "# An architecture consists of the settings for normal and reduction cells\n",
    "arch = settingsNormalCell + settingsReductionCell\n",
    "\n",
    "SettingsCell: (integers)\n",
    "\n",
    "Node1 = (Op1, Op2) + (Bin1, Bin2)  Two integers 0--7, 2 binaries\n",
    "\n",
    "Node2 = (Op1, Op2) + (Bin1, Bin2) + (Input1, Input2) Two integers 0--7, 2 binaries, 2 integers 0--2\n",
    "\n",
    "Node3 = (Op1, Op2) + (Bin1, Bin2) + (Input1, Input2) Two integers 0--7, 2 binaries, 2 integers 0--3\n",
    "\n",
    "Node4 = (Op1, Op2) + (Bin1, Bin2) + (Input1, Input2) Two integers 0--7, 2 binaries, 2 integers 0--4\n",
    "\n",
    "Node5 = (Op1, Op2) + (Bin1, Bin2) + (Input1, Input2) Two integers 0--7, 2 binaries, 2 integers 0--4\n",
    "\n",
    "Total: 28 integers\n",
    "\n",
    "Example: \n",
    "cell = 3210 240121 241130 240120 241043\n",
    "arch = 3210 240121 241130 240120 241043 + 3210 240121 241130 240120 241043"
   ]
  },
  {
   "cell_type": "code",
   "execution_count": 31,
   "metadata": {},
   "outputs": [],
   "source": [
    "def bin1(num):\n",
    "    return bin(num)[2:]\n",
    "    \n",
    "def bin2(num):\n",
    "    st = bin(num)[2:]\n",
    "    if len(st) == 2:\n",
    "        return st\n",
    "    else:\n",
    "        return '0' + st\n",
    "    \n",
    "def bin3(num):\n",
    "    st = bin(num)[2:]\n",
    "    while len(st) < 3:\n",
    "        st = '0' + st\n",
    "    return st"
   ]
  },
  {
   "cell_type": "code",
   "execution_count": 34,
   "metadata": {},
   "outputs": [],
   "source": [
    "def cell_to_binary(cell):\n",
    "    # cell an array of 28 integers\n",
    "    enconding = ''\n",
    "    #Node 1\n",
    "    encoding =  bin3(cell[0]) + bin3(cell[1]) + bin1(cell[2]) + bin1(cell[3])\n",
    "    #Node 2\n",
    "    if 2 < cell[8]: cell[8] = random.randint(0,2)\n",
    "    if 2 < cell[9]: cell[9] = random.randint(0,2)\n",
    "    encoding += bin3(cell[4]) + bin3(cell[5]) + bin1(cell[6]) + bin1(cell[7]) + bin2(cell[8]) + bin2(cell[9])\n",
    "    #Node 3\n",
    "    encoding += bin3(cell[10]) + bin3(cell[11]) + bin1(cell[12]) + bin1(cell[13]) + bin2(cell[14]) + bin2(cell[15])\n",
    "    #Node 4\n",
    "    if 4 < cell[20]: cell[20] = random.randint(0,4)\n",
    "    if 4 < cell[21]: cell[21] = random.randint(0,4)\n",
    "    encoding +=  bin3(cell[16]) + bin3(cell[17]) + bin1(cell[18]) + bin1(cell[19]) + bin3(cell[20]) + bin3(cell[21])\n",
    "    #Node 5\n",
    "    if 4 < cell[26]: cell[26] = random.randint(0,4)\n",
    "    if 4 < cell[27]: cell[27] = random.randint(0,4)\n",
    "    encoding +=  bin3(cell[22]) + bin3(cell[23]) + bin1(cell[24]) + bin1(cell[25]) + bin3(cell[26]) + bin3(cell[27])\n",
    "    \n",
    "    return encoding"
   ]
  },
  {
   "cell_type": "code",
   "execution_count": 36,
   "metadata": {},
   "outputs": [
    {
     "name": "stdout",
     "output_type": "stream",
     "text": [
      "011010100101000110010101001111000101000101000001010010100011 60\n"
     ]
    }
   ],
   "source": [
    "arr =list(map(int, '3210240121241130240120241043'))\n",
    "code = cell_to_binary(arr)\n",
    "print(code, len(code))"
   ]
  }
 ],
 "metadata": {
  "kernelspec": {
   "display_name": "Python 3",
   "language": "python",
   "name": "python3"
  },
  "language_info": {
   "codemirror_mode": {
    "name": "ipython",
    "version": 3
   },
   "file_extension": ".py",
   "mimetype": "text/x-python",
   "name": "python",
   "nbconvert_exporter": "python",
   "pygments_lexer": "ipython3",
   "version": "3.7.1"
  }
 },
 "nbformat": 4,
 "nbformat_minor": 2
}
